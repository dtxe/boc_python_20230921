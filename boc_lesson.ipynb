{
 "cells": [
  {
   "cell_type": "markdown",
   "metadata": {},
   "source": [
    "## Introduction\n",
    "**Icebreaker**: What is one thing that you wish was automated or made easier in your daily work?"
   ]
  },
  {
   "cell_type": "markdown",
   "metadata": {},
   "source": [
    "## Why Python?\n",
    "* Everything is data now.\n",
    "* Doing repetitive things quickly and accurately is what computers do\n",
    "* As librarians / information specialists / analysts, we do the high value work of creativity & design & analysis. Leave computing to the computers."
   ]
  },
  {
   "cell_type": "markdown",
   "metadata": {},
   "source": [
    "## Opening JupyterLab\n",
    "1. Open the start menu, search \"Anaconda Navigator\", then launch the Anaconda Navigator App\n",
    "    * This may take some time\n",
    "1. Launch JupyterLab\n",
    "1. After a lot lf loading, JupyterLab opens a blank notebook!\n",
    "\n",
    "<img src=\"image.png\" alt=\"Open the start menu, search 'Anaconda Navigator', then launch the Anaconda Navigator App\" width=\"700\"/>\n",
    "<img src=\"image-1.png\" alt=\"Launch JupyterLab\" width=\"700\"/>\n",
    "<img src=\"image-2.png\" alt=\"Empty notebook view after JupyterLab opens\" width=\"700\"/>"
   ]
  },
  {
   "cell_type": "markdown",
   "metadata": {},
   "source": [
    "<hr /> \n",
    "\n",
    "## Variables & Assignment\n",
    "* **Variables** are names for values.\n",
    "* Variable names\n",
    "    * can **only** contain letters, digits, and underscore _ (typically used to separate words in long variable names)\n",
    "    * cannot start with a digit\n",
    "    * are **case sensitive** (age, Age and AGE are three different variables)\n",
    "    * The name should also be meaningful so you or another programmer know what it is\n",
    "* In Python the `=` symbol assigns the value on the right to the name on the left.\n",
    "* The variable is created when a value is assigned to it.\n",
    "* Here, Python assigns an `age` to a variable age and a name in quotes to a variable `first_name`."
   ]
  },
  {
   "cell_type": "code",
   "execution_count": 1,
   "metadata": {},
   "outputs": [
    {
     "name": "stdout",
     "output_type": "stream",
     "text": [
      "Ahmed is 42 years old\n"
     ]
    }
   ],
   "source": [
    "age = 42\n",
    "first_name = 'Ahmed'\n",
    "\n",
    "print(first_name, 'is', age, 'years old')"
   ]
  },
  {
   "cell_type": "markdown",
   "metadata": {},
   "source": [
    "### Variables must be created before they are used.\n",
    "If a variable doesn’t exist yet, or if the name has been mis-spelled, Python reports an error."
   ]
  },
  {
   "cell_type": "code",
   "execution_count": 2,
   "metadata": {},
   "outputs": [
    {
     "ename": "NameError",
     "evalue": "name 'last_name' is not defined",
     "output_type": "error",
     "traceback": [
      "\u001b[1;31m---------------------------------------------------------------------------\u001b[0m",
      "\u001b[1;31mNameError\u001b[0m                                 Traceback (most recent call last)",
      "\u001b[1;32mc:\\Users\\simeon wong\\Downloads\\boc_lesson.ipynb Cell 7\u001b[0m line \u001b[0;36m1\n\u001b[1;32m----> <a href='vscode-notebook-cell:/c%3A/Users/simeon%20wong/Downloads/boc_lesson.ipynb#W6sZmlsZQ%3D%3D?line=0'>1</a>\u001b[0m \u001b[39mprint\u001b[39m(last_name)\n",
      "\u001b[1;31mNameError\u001b[0m: name 'last_name' is not defined"
     ]
    }
   ],
   "source": [
    "print(last_name)"
   ]
  },
  {
   "cell_type": "markdown",
   "metadata": {},
   "source": [
    "### Use meaningful variable names\n",
    "Which is a better variable name, m, min, or minutes? Why?  \n",
    "*Hint*: think about which code you would rather inherit from someone:\n",
    "\n",
    "```\n",
    "ts = m * 60 + s\n",
    "tot_sec = min * 60 + sec\n",
    "total_seconds = minutes * 60 + seconds\n",
    "```"
   ]
  },
  {
   "cell_type": "markdown",
   "metadata": {},
   "source": [
    "<hr />\n",
    "\n",
    "## Data types\n",
    "### Every value has a type\n",
    "* Every value in a program has a specific type.\n",
    "* Integer (`int`): represents positive or negative whole numbers like 3 or -512.\n",
    "* Floating point number (`float`): represents real numbers like 3.14159 or -2.5.\n",
    "* Character string (usually called “string”, `str`): text.\n",
    "    * Written in either single quotes or double quotes (as long as they match).\n",
    "    * The quote marks aren’t printed when the string is displayed.\n",
    "    \n",
    "### Use the built-in function type to find the type of a value.\n",
    "* Use the built-in function type to find out what type a value has.\n",
    "* Works on variables as well.\n",
    "    * But remember: the value has the type — the variable is just a label."
   ]
  },
  {
   "cell_type": "code",
   "execution_count": 5,
   "metadata": {},
   "outputs": [
    {
     "name": "stdout",
     "output_type": "stream",
     "text": [
      "Type of the integer 52: \n",
      "<class 'int'>\n",
      "Type of the string \"average\":\n",
      "<class 'str'>\n"
     ]
    }
   ],
   "source": [
    "print('Type of the integer 52: ')\n",
    "print(type(52))\n",
    "\n",
    "print('Type of the string \"average\":')\n",
    "fitness = 'average'\n",
    "print(type(fitness))"
   ]
  },
  {
   "cell_type": "markdown",
   "metadata": {},
   "source": [
    "### Variables only change value when something is assigned to them.\n",
    "* If we make one cell in a spreadsheet depend on another, and update the latter, the former updates automatically.\n",
    "* This does **not** happen in programming languages."
   ]
  },
  {
   "cell_type": "code",
   "execution_count": 6,
   "metadata": {},
   "outputs": [
    {
     "name": "stdout",
     "output_type": "stream",
     "text": [
      "first is 2 and second is 5\n"
     ]
    }
   ],
   "source": [
    "variable_one = 1\n",
    "variable_two = 5 * variable_one\n",
    "variable_one = 2\n",
    "print('first is', variable_one, 'and second is', variable_two)"
   ]
  },
  {
   "cell_type": "markdown",
   "metadata": {},
   "source": [
    "* The computer reads the value of `variable_one` when doing the multiplication, creates a new value, and assigns it to `variable_two`.\n",
    "* Afterwards, the value of `variable_two` is set to the new value and not dependent on `variable_one` so its value does not automatically change when `variable_one` changes."
   ]
  },
  {
   "cell_type": "markdown",
   "metadata": {},
   "source": [
    "<hr />\n",
    "\n",
    "## Comments\n",
    "Use comments to add documentation to programs.\n"
   ]
  },
  {
   "cell_type": "code",
   "execution_count": 7,
   "metadata": {},
   "outputs": [
    {
     "name": "stdout",
     "output_type": "stream",
     "text": [
      "0.5\n"
     ]
    }
   ],
   "source": [
    "# This sentence isn't executed by Python.\n",
    "adjustment = 0.5  # Neither is this - anything after '#' is ignored.\n",
    "\n",
    "print(adjustment)\n"
   ]
  },
  {
   "cell_type": "markdown",
   "metadata": {},
   "source": [
    "#### Exercise:\n",
    "Why doesn't this code work?"
   ]
  },
  {
   "cell_type": "code",
   "execution_count": 8,
   "metadata": {},
   "outputs": [
    {
     "ename": "SyntaxError",
     "evalue": "invalid syntax (1611901010.py, line 1)",
     "output_type": "error",
     "traceback": [
      "\u001b[1;36m  Cell \u001b[1;32mIn[8], line 1\u001b[1;36m\u001b[0m\n\u001b[1;33m    Number of documents in the collection\u001b[0m\n\u001b[1;37m           ^\u001b[0m\n\u001b[1;31mSyntaxError\u001b[0m\u001b[1;31m:\u001b[0m invalid syntax\n"
     ]
    }
   ],
   "source": [
    "Number of documents in the collection\n",
    "num_docs = 10\n",
    "\n",
    "print(num_docs)"
   ]
  },
  {
   "cell_type": "markdown",
   "metadata": {},
   "source": [
    "<hr />\n",
    "\n",
    "## Functions\n",
    "* We have seen some functions already — now let’s take a closer look.\n",
    "* An *argument* is a value passed into a function.\n",
    "    * `print` takes zero or more.\n",
    "        * print with no arguments prints a blank line.\n",
    "    * `type` takes exactly one argument\n",
    "* Must always use parentheses, even if they’re empty, so that Python knows a function is being called."
   ]
  },
  {
   "cell_type": "code",
   "execution_count": 9,
   "metadata": {},
   "outputs": [
    {
     "name": "stdout",
     "output_type": "stream",
     "text": [
      "before\n",
      "\n",
      "after\n"
     ]
    }
   ],
   "source": [
    "print('before')\n",
    "print()\n",
    "print('after')"
   ]
  },
  {
   "cell_type": "markdown",
   "metadata": {},
   "source": [
    "<hr />\n",
    "\n",
    "## Libraries\n",
    "### Most of the power of a programming language is in its libraries.\n",
    "* A library is a collection of files (called modules) that contains functions for use by other programs.\n",
    "    * May also contain data values (e.g., numerical constants) and other things.\n",
    "* The Python standard library is an extensive suite of modules that comes with Python itself.\n",
    "* Many additional libraries are available from PyPI (the Python Package Index) using `pip`\n",
    "\n",
    "### Installing packages using pip\n",
    "1. Launch the Terminal\n",
    "1. Use the `pip` command to find and install the package\n",
    "\n",
    "**Syntax:** `pip install [packagename]`\n",
    "\n",
    "<img src=\"image-3.png\" alt=\"Launch terminal\" width=\"700\"/>\n",
    "<img src=\"image-4.png\" alt=\"Use the pip command\" width=\"700\"/>\n",
    "\n",
    "### Installing the rdflib and pandas libraries\n",
    "* Use `pip` to install `rdflib` and `pandas`"
   ]
  },
  {
   "cell_type": "markdown",
   "metadata": {},
   "source": [
    "<hr />\n",
    "\n",
    "## Errors and getting help\n",
    "### The Jupyter Notebook has two ways to get help.\n",
    "**Option 1**: Place the cursor near where the function is invoked in a cell (i.e., the function name or its parameters),\n",
    "* Hold down Shift, and press Tab.\n",
    "* Do this several times to expand the information returned.\n",
    "\n",
    "**Option 2**: Type the function name in a cell with a question mark after it. Then run the cell.\n",
    "\n",
    "### Library functions have online documentation\n",
    "https://rdflib.readthedocs.io/en/stable/intro_to_parsing.html\n",
    "\n",
    "<img src=\"image-5.png\" alt=\"Loading and saving RDF documentation\" width=\"700\"/>\n",
    "\n",
    "### A program must import a library module before using it.\n",
    "* Use `import` to load a library module into a program’s memory.\n",
    "* Then refer to things from the module as `module_name.thing_name`.\n",
    "    * Python uses . to mean “part of”."
   ]
  },
  {
   "cell_type": "code",
   "execution_count": null,
   "metadata": {},
   "outputs": [],
   "source": [
    "import pandas as pd\n",
    "help(pd)"
   ]
  },
  {
   "cell_type": "markdown",
   "metadata": {},
   "source": [
    "<hr />\n",
    "\n",
    "## For Loops\n",
    "### A for loop executes commands once for each value in a collection\n",
    "* A for loop tells Python to execute some statements once for each value in a list, a character string, or some other collection.\n",
    "* “for each thing in this group, do these operations”\n",
    "* **This is the real power of coding**"
   ]
  },
  {
   "cell_type": "code",
   "execution_count": 11,
   "metadata": {},
   "outputs": [
    {
     "name": "stdout",
     "output_type": "stream",
     "text": [
      "Manually:\n",
      "2\n",
      "3\n",
      "5\n",
      "Using a loop:\n",
      "2\n",
      "3\n",
      "5\n"
     ]
    }
   ],
   "source": [
    "print('Manually:')\n",
    "print(2)\n",
    "print(3)\n",
    "print(5)\n",
    "\n",
    "print('Using a loop:')\n",
    "for number in [2, 3, 5]:\n",
    "    print(number)"
   ]
  },
  {
   "cell_type": "markdown",
   "metadata": {},
   "source": [
    "### Loop variables can be called anything.\n",
    "* As with all variables, loop variables are:\n",
    "    * Created on demand.\n",
    "    * Python doesn't care what you name it: their names can be anything at all\n",
    "    * You should call it something meaningful\n",
    "    \n",
    "### The body of a loop can contain many statements.\n",
    "* Try to keep loops short\n",
    "* It is hard for human beings to keep larger chunks of code in mind."
   ]
  },
  {
   "cell_type": "code",
   "execution_count": 12,
   "metadata": {},
   "outputs": [
    {
     "name": "stdout",
     "output_type": "stream",
     "text": [
      "2 4 8\n",
      "3 9 27\n",
      "5 25 125\n"
     ]
    }
   ],
   "source": [
    "primes = [2, 3, 5]\n",
    "for this_prime_number in primes:\n",
    "    squared = this_prime_number**2\n",
    "    cubed = this_prime_number**3\n",
    "    print(this_prime_number, squared, cubed)"
   ]
  },
  {
   "cell_type": "markdown",
   "metadata": {},
   "source": [
    "### Use range to iterate over a sequence of numbers.\n",
    "* The built-in function range produces a sequence of numbers.\n",
    "* range(N) is the numbers 0..N-1\n",
    "    * Exactly the legal indices of a list or character string of length N"
   ]
  },
  {
   "cell_type": "code",
   "execution_count": 14,
   "metadata": {},
   "outputs": [
    {
     "name": "stdout",
     "output_type": "stream",
     "text": [
      "0\n",
      "1\n",
      "2\n",
      "3\n",
      "4\n"
     ]
    }
   ],
   "source": [
    "for number in range(0, 5):\n",
    "    print(number)"
   ]
  },
  {
   "cell_type": "markdown",
   "metadata": {},
   "source": [
    "<hr />\n",
    "\n",
    "## Lists (collection of items / \"arrays\")\n",
    "### A list stores many values in a single structure.\n",
    "* Doing calculations with a hundred variables (eg. `value1`, `value2`, `value3`, ...) would be at least as slow as doing them by hand.\n",
    "* Use a list to store many values together.\n",
    "* Contained within square brackets `[...]`.\n",
    "* Values separated by commas `,`\n",
    "* Use `len` to find out how many values are in a list."
   ]
  },
  {
   "cell_type": "code",
   "execution_count": 17,
   "metadata": {},
   "outputs": [
    {
     "name": "stdout",
     "output_type": "stream",
     "text": [
      "values: [1.034, 2.275, 3.277, 4.275, 5.276]\n",
      "length of `values`: 5\n"
     ]
    }
   ],
   "source": [
    "values = [1.034, 2.275, 3.277, 4.275, 5.276]\n",
    "print('values:', values)\n",
    "print('length of `values`:', len(values))"
   ]
  },
  {
   "cell_type": "markdown",
   "metadata": {},
   "source": [
    "### Use an item’s index to fetch it from a list."
   ]
  },
  {
   "cell_type": "code",
   "execution_count": 18,
   "metadata": {},
   "outputs": [
    {
     "name": "stdout",
     "output_type": "stream",
     "text": [
      "zeroth item of values: 1.034\n",
      "fourth item of values: 5.276\n"
     ]
    }
   ],
   "source": [
    "print('zeroth item of values:', values[0])\n",
    "print('fourth item of values:', values[4])"
   ]
  },
  {
   "cell_type": "markdown",
   "metadata": {},
   "source": [
    "### Lists’ values can be replaced by assigning to them.\n",
    "* Use an index expression on the left of assignment to replace a value."
   ]
  },
  {
   "cell_type": "code",
   "execution_count": 19,
   "metadata": {},
   "outputs": [
    {
     "name": "stdout",
     "output_type": "stream",
     "text": [
      "`values` is now: [0.265, 2.275, 3.277, 4.275, 5.276]\n"
     ]
    }
   ],
   "source": [
    "values[0] = 0.265\n",
    "print('`values` is now:', values)"
   ]
  },
  {
   "cell_type": "markdown",
   "metadata": {},
   "source": [
    "### Exercise 1:\n",
    "* Combine a for-loop, `range`, and list indexing to print the index and associated value from the list `values`:\n",
    "\n",
    "**Output:**\n",
    "```\n",
    "0 0.034\n",
    "1 2.275\n",
    "2 3.277\n",
    "3 4.275\n",
    "4 5.276\n",
    "```\n",
    "\n",
    "### Appending items to a list lengthens it.\n",
    "Use `list_name.append` to add items to the end of a list."
   ]
  },
  {
   "cell_type": "code",
   "execution_count": 22,
   "metadata": {},
   "outputs": [
    {
     "name": "stdout",
     "output_type": "stream",
     "text": [
      "primes is initially: [2, 3, 5]\n",
      "primes has become: [2, 3, 5, 7]\n"
     ]
    }
   ],
   "source": [
    "primes = [2, 3, 5]\n",
    "print('primes is initially:', primes)\n",
    "\n",
    "primes.append(7)\n",
    "print('primes has become:', primes)"
   ]
  },
  {
   "cell_type": "markdown",
   "metadata": {},
   "source": [
    "### Exercise 2:\n",
    "* Using a for-loop, and the list `values`, create a new list called `values_plus_5` that contains all the items in `values`, with `5` added to each number\n",
    "\n",
    "After running your code, values_plus_5 should look like this:\n",
    "```\n",
    "print(values_plus_5)\n",
    "[5.265, 7.275, 8.277, 9.275, 10.276]\n",
    "```"
   ]
  },
  {
   "cell_type": "markdown",
   "metadata": {},
   "source": [
    "<hr />\n",
    "\n",
    "## Reading Tabular Data into DataFrames\n",
    "* Pandas is a widely-used Python library for statistics, particularly on tabular data.\n",
    "* Load Pandas with `import pandas as pd`. The alias `pd` is commonly used to refer to the Pandas library in code.\n",
    "* Read a Comma Separated Values (CSV) data file with `pd.read_csv`.\n",
    "    * Argument is the name of the file to be read.\n",
    "    * Returns a dataframe that you can assign to a variable"
   ]
  },
  {
   "cell_type": "code",
   "execution_count": 28,
   "metadata": {},
   "outputs": [
    {
     "name": "stdout",
     "output_type": "stream",
     "text": [
      "          date  length_hours  num_attendees delivered_by\n",
      "0   2016-01-08           1.5             20           FG\n",
      "1   2016-01-13           1.0             21           JM\n",
      "2   2016-01-22           1.0             35           JM\n",
      "3   2016-02-02           1.5             36           JM\n",
      "4   2016-02-03           1.5             22           JM\n",
      "5   2016-02-03           1.0             30           JM\n",
      "6   2016-02-20           1.5             36           FG\n",
      "7   2016-02-28           1.5             28           JM\n",
      "8   2016-03-19           1.5             33           FG\n",
      "9   2016-03-19           1.0             39           JM\n",
      "10  2016-04-04           1.5             21           JM\n",
      "11  2016-05-05           1.5             25           JM\n",
      "12  2016-05-18           1.0             22           JM\n",
      "13  2016-05-19           1.5             20           FG\n",
      "14  2016-05-21           1.5             21           JM\n",
      "15  2016-06-14           1.5             37           JM\n",
      "16  2016-06-18           1.5             25           JM\n",
      "17  2016-07-04           1.5             39           JM\n",
      "18  2016-07-06           1.5             39           JM\n",
      "19  2016-07-10           1.5             34           JM\n",
      "20  2016-07-13           1.5             23           FG\n",
      "21  2016-07-17           1.5             30           JM\n",
      "22  2016-08-03           1.5             28           JM\n",
      "23  2016-08-20           1.5             32           JM\n",
      "24  2016-08-26           1.5             25           JM\n",
      "25  2016-08-28           1.5             33           FG\n",
      "26  2016-10-01           1.5             38           JM\n",
      "27  2016-10-21           1.5             34           JM\n",
      "28  2016-11-09           1.5             32           JM\n",
      "29  2016-11-15           1.5             35           JM\n",
      "30  2016-11-15           1.5             27           JM\n",
      "31  2016-12-02           1.5             35           FG\n",
      "32  2016-12-07           1.5             23           JM\n",
      "33  2016-12-11           1.5             38           FG\n",
      "34  2016-12-19           1.5             20           FG\n"
     ]
    }
   ],
   "source": [
    "import pandas as pd\n",
    "\n",
    "workshop_2016 = pd.read_csv(\n",
    "    'https://raw.githubusercontent.com/dtxe/boc_python_20230921/main/tidy_data_2016_openaccess.csv'\n",
    ")\n",
    "print(workshop_2016)"
   ]
  },
  {
   "cell_type": "markdown",
   "metadata": {},
   "source": [
    "### Setting an index"
   ]
  },
  {
   "cell_type": "code",
   "execution_count": 29,
   "metadata": {},
   "outputs": [
    {
     "name": "stdout",
     "output_type": "stream",
     "text": [
      "            length_hours  num_attendees delivered_by\n",
      "date                                                \n",
      "2016-01-08           1.5             20           FG\n",
      "2016-01-13           1.0             21           JM\n",
      "2016-01-22           1.0             35           JM\n",
      "2016-02-02           1.5             36           JM\n",
      "2016-02-03           1.5             22           JM\n",
      "2016-02-03           1.0             30           JM\n",
      "2016-02-20           1.5             36           FG\n",
      "2016-02-28           1.5             28           JM\n",
      "2016-03-19           1.5             33           FG\n",
      "2016-03-19           1.0             39           JM\n",
      "2016-04-04           1.5             21           JM\n",
      "2016-05-05           1.5             25           JM\n",
      "2016-05-18           1.0             22           JM\n",
      "2016-05-19           1.5             20           FG\n",
      "2016-05-21           1.5             21           JM\n",
      "2016-06-14           1.5             37           JM\n",
      "2016-06-18           1.5             25           JM\n",
      "2016-07-04           1.5             39           JM\n",
      "2016-07-06           1.5             39           JM\n",
      "2016-07-10           1.5             34           JM\n",
      "2016-07-13           1.5             23           FG\n",
      "2016-07-17           1.5             30           JM\n",
      "2016-08-03           1.5             28           JM\n",
      "2016-08-20           1.5             32           JM\n",
      "2016-08-26           1.5             25           JM\n",
      "2016-08-28           1.5             33           FG\n",
      "2016-10-01           1.5             38           JM\n",
      "2016-10-21           1.5             34           JM\n",
      "2016-11-09           1.5             32           JM\n",
      "2016-11-15           1.5             35           JM\n",
      "2016-11-15           1.5             27           JM\n",
      "2016-12-02           1.5             35           FG\n",
      "2016-12-07           1.5             23           JM\n",
      "2016-12-11           1.5             38           FG\n",
      "2016-12-19           1.5             20           FG\n"
     ]
    }
   ],
   "source": [
    "workshop_2016.set_index('date', inplace=True)\n",
    "print(workshop_2016)"
   ]
  },
  {
   "cell_type": "markdown",
   "metadata": {},
   "source": [
    "### Use the DataFrame.info() method to find out more about a dataframe."
   ]
  },
  {
   "cell_type": "code",
   "execution_count": 30,
   "metadata": {},
   "outputs": [
    {
     "name": "stdout",
     "output_type": "stream",
     "text": [
      "<class 'pandas.core.frame.DataFrame'>\n",
      "Index: 35 entries, 2016-01-08 to 2016-12-19\n",
      "Data columns (total 3 columns):\n",
      " #   Column         Non-Null Count  Dtype  \n",
      "---  ------         --------------  -----  \n",
      " 0   length_hours   35 non-null     float64\n",
      " 1   num_attendees  35 non-null     int64  \n",
      " 2   delivered_by   35 non-null     object \n",
      "dtypes: float64(1), int64(1), object(1)\n",
      "memory usage: 1.1+ KB\n"
     ]
    }
   ],
   "source": [
    "workshop_2016.info()"
   ]
  },
  {
   "cell_type": "markdown",
   "metadata": {},
   "source": [
    "* This is a DataFrame\n",
    "* 35 rows indexed by the workshop dates\n",
    "* Three columns named `length_hours`, `num_attendees`, `delivered_by`"
   ]
  },
  {
   "cell_type": "markdown",
   "metadata": {},
   "source": [
    "### Use DataFrame.describe() to get summary statistics about data.\n",
    "* `DataFrame.describe()` gets the summary statistics of only the columns that have numerical data.\n",
    "* All other columns are ignored, unless you use the argument `include='all'`."
   ]
  },
  {
   "cell_type": "code",
   "execution_count": 33,
   "metadata": {},
   "outputs": [
    {
     "data": {
      "text/html": [
       "<div>\n",
       "<style scoped>\n",
       "    .dataframe tbody tr th:only-of-type {\n",
       "        vertical-align: middle;\n",
       "    }\n",
       "\n",
       "    .dataframe tbody tr th {\n",
       "        vertical-align: top;\n",
       "    }\n",
       "\n",
       "    .dataframe thead th {\n",
       "        text-align: right;\n",
       "    }\n",
       "</style>\n",
       "<table border=\"1\" class=\"dataframe\">\n",
       "  <thead>\n",
       "    <tr style=\"text-align: right;\">\n",
       "      <th></th>\n",
       "      <th>length_hours</th>\n",
       "      <th>num_attendees</th>\n",
       "      <th>delivered_by</th>\n",
       "    </tr>\n",
       "  </thead>\n",
       "  <tbody>\n",
       "    <tr>\n",
       "      <th>count</th>\n",
       "      <td>35.000000</td>\n",
       "      <td>35.000000</td>\n",
       "      <td>35</td>\n",
       "    </tr>\n",
       "    <tr>\n",
       "      <th>unique</th>\n",
       "      <td>NaN</td>\n",
       "      <td>NaN</td>\n",
       "      <td>2</td>\n",
       "    </tr>\n",
       "    <tr>\n",
       "      <th>top</th>\n",
       "      <td>NaN</td>\n",
       "      <td>NaN</td>\n",
       "      <td>JM</td>\n",
       "    </tr>\n",
       "    <tr>\n",
       "      <th>freq</th>\n",
       "      <td>NaN</td>\n",
       "      <td>NaN</td>\n",
       "      <td>26</td>\n",
       "    </tr>\n",
       "    <tr>\n",
       "      <th>mean</th>\n",
       "      <td>1.428571</td>\n",
       "      <td>29.600000</td>\n",
       "      <td>NaN</td>\n",
       "    </tr>\n",
       "    <tr>\n",
       "      <th>std</th>\n",
       "      <td>0.177518</td>\n",
       "      <td>6.598574</td>\n",
       "      <td>NaN</td>\n",
       "    </tr>\n",
       "    <tr>\n",
       "      <th>min</th>\n",
       "      <td>1.000000</td>\n",
       "      <td>20.000000</td>\n",
       "      <td>NaN</td>\n",
       "    </tr>\n",
       "    <tr>\n",
       "      <th>25%</th>\n",
       "      <td>1.500000</td>\n",
       "      <td>23.000000</td>\n",
       "      <td>NaN</td>\n",
       "    </tr>\n",
       "    <tr>\n",
       "      <th>50%</th>\n",
       "      <td>1.500000</td>\n",
       "      <td>30.000000</td>\n",
       "      <td>NaN</td>\n",
       "    </tr>\n",
       "    <tr>\n",
       "      <th>75%</th>\n",
       "      <td>1.500000</td>\n",
       "      <td>35.000000</td>\n",
       "      <td>NaN</td>\n",
       "    </tr>\n",
       "    <tr>\n",
       "      <th>max</th>\n",
       "      <td>1.500000</td>\n",
       "      <td>39.000000</td>\n",
       "      <td>NaN</td>\n",
       "    </tr>\n",
       "  </tbody>\n",
       "</table>\n",
       "</div>"
      ],
      "text/plain": [
       "        length_hours  num_attendees delivered_by\n",
       "count      35.000000      35.000000           35\n",
       "unique           NaN            NaN            2\n",
       "top              NaN            NaN           JM\n",
       "freq             NaN            NaN           26\n",
       "mean        1.428571      29.600000          NaN\n",
       "std         0.177518       6.598574          NaN\n",
       "min         1.000000      20.000000          NaN\n",
       "25%         1.500000      23.000000          NaN\n",
       "50%         1.500000      30.000000          NaN\n",
       "75%         1.500000      35.000000          NaN\n",
       "max         1.500000      39.000000          NaN"
      ]
     },
     "execution_count": 33,
     "metadata": {},
     "output_type": "execute_result"
    }
   ],
   "source": [
    "workshop_2016.describe(include='all')"
   ]
  },
  {
   "cell_type": "markdown",
   "metadata": {},
   "source": [
    "### Exercise: Reading data from different directories on your computer\n",
    "* Above, we loaded data directly from GitHub\n",
    "* What if we wanted to read a file from our computer?\n",
    "* **Try loading a CSV file from one of our previous lessons**\n",
    "\n",
    "How can we access files from a different directory?"
   ]
  },
  {
   "cell_type": "markdown",
   "metadata": {},
   "source": [
    "<hr />\n",
    "\n",
    "## Working with RDF files\n",
    "* RDF files contain a list of triples (subject, predicate, and object)\n",
    "* RDF files describe a graph (a set of connections between nodes)\n",
    "* To work with RDF files in Python, we first import the RDF library and some shortcuts for terms\n",
    "\n",
    "### Default namespaces\n",
    "RDF: Resource Description Framework  \n",
    "RDFS: RDF Semantics  \n",
    "\n",
    "### Creating custom namespaces\n",
    "Namespace: Allows us to create custom namespaces  \n",
    "BOC: Our shorthand for the Bank of Canada namespace\n",
    "\n",
    "### Simplified schematic of Language RDF Dataset\n",
    "<img alt=\"BOC Language Dataset Schematic\" src=\"image-6.png\" width=\"700\" />"
   ]
  },
  {
   "cell_type": "code",
   "execution_count": 2,
   "metadata": {},
   "outputs": [
    {
     "name": "stdout",
     "output_type": "stream",
     "text": [
      "8665\n"
     ]
    }
   ],
   "source": [
    "import rdflib\n",
    "from rdflib.namespace import RDF, RDFS, Namespace\n",
    "\n",
    "# Create custom namespaces used in Bank of Canada RDF data files\n",
    "BOC = Namespace(\"https://www.bankofcanada.ca/model#\")\n",
    "\n",
    "# import rdf file\n",
    "g = rdflib.Graph()\n",
    "g.bind(\"boc\", BOC)   # this tells rdflib about our shorthand for the BOC namespace\n",
    "g.parse(\"http://10.220.12.6/LANG_STG_15-09-2023.rdf\")\n",
    "\n",
    "# print the number of triples in the graph\n",
    "print(len(g))"
   ]
  },
  {
   "cell_type": "code",
   "execution_count": 11,
   "metadata": {},
   "outputs": [
    {
     "name": "stdout",
     "output_type": "stream",
     "text": [
      "https://www.bankofcanada.ca/id/61692129-d425-432d-8d87-314acc9bbc83 https://www.bankofcanada.ca/model#hasDenotation https://www.bankofcanada.ca/id/4168b633-6aa8-4c16-a888-04a741397522\n",
      "https://www.bankofcanada.ca/id/13500815-576e-46a8-a8c8-b1a744707c6c http://www.w3.org/2000/01/rdf-schema#label Bliss\n",
      "https://www.bankofcanada.ca/id/19e0ab74-ff43-485b-a05a-f12180be4fab http://www.w3.org/2004/02/skos/core#exactMatch https://id.loc.gov/vocabulary/iso639-1/ee\n",
      "https://www.bankofcanada.ca/id/2a87ac19-21df-42cb-8d62-0a52d47dc15b http://www.w3.org/1999/02/22-rdf-syntax-ns#type https://www.bankofcanada.ca/model#Language\n",
      "https://www.bankofcanada.ca/id/33e87715-2185-4179-abc3-ad9b71ee047d http://www.mondeca.com/system/t3#inGroup https://www.bankofcanada.ca/id/LivingLanguage\n",
      "https://www.bankofcanada.ca/id/a250715b-29f5-481f-9b26-c20764945e2c https://www.bankofcanada.ca/model#externalUri https://www.omg.org/spec/LCC/Languages/ISO639-1-LanguageCodes/Afrikaans\n",
      "https://www.bankofcanada.ca/id/e71c42e2-3444-49c2-9c1f-e81a3a33d6f1 https://www.bankofcanada.ca/model#uuid e71c42e2-3444-49c2-9c1f-e81a3a33d6f1\n",
      "https://www.bankofcanada.ca/id/328adf8f-8f08-4003-9f71-41b239526b45 http://www.w3.org/2000/01/rdf-schema#label Turkish\n",
      "https://www.bankofcanada.ca/id/9ddb415b-61c8-4b15-9790-86d14bd0d941 https://www.bankofcanada.ca/model#hasLanguageCategory https://www.omg.org/spec/LCC/Languages/LanguageRepresentation/LivingLanguage\n",
      "https://www.bankofcanada.ca/id/2dffe187-f685-4287-a65b-5844ce930124 https://www.bankofcanada.ca/model#hasLanguageCategory https://www.omg.org/spec/LCC/Languages/LanguageRepresentation/IndividualLanguage\n"
     ]
    }
   ],
   "source": [
    "# print the first 10 triples\n",
    "for s, p, o in list(g)[:10]:\n",
    "    print(s, p, o)"
   ]
  },
  {
   "cell_type": "code",
   "execution_count": 10,
   "metadata": {},
   "outputs": [
    {
     "name": "stdout",
     "output_type": "stream",
     "text": [
      "{rdflib.term.URIRef('https://www.bankofcanada.ca/model#LanguageFamily'), rdflib.term.URIRef('https://www.bankofcanada.ca/model#Language'), rdflib.term.URIRef('https://www.bankofcanada.ca/model#Alpha2CodeLanguage'), rdflib.term.URIRef('https://www.bankofcanada.ca/model#Alpha3CodeLanguage')}\n"
     ]
    }
   ],
   "source": [
    "# get a list of all data types\n",
    "data_types = set()    # a set is like a LIST except all the values are unique\n",
    "for s, p, o in g.triples((None, RDF.type, None)):\n",
    "    data_types.add(o)\n",
    "    \n",
    "print(data_types)"
   ]
  },
  {
   "cell_type": "code",
   "execution_count": 22,
   "metadata": {},
   "outputs": [
    {
     "name": "stdout",
     "output_type": "stream",
     "text": [
      "[rdflib.term.URIRef('https://www.bankofcanada.ca/id/0156c97d-07d6-43d2-bd92-63c4c062428a'), rdflib.term.URIRef('https://www.bankofcanada.ca/id/03375036-4837-46bf-ae52-8c57938002db'), rdflib.term.URIRef('https://www.bankofcanada.ca/id/04a982f6-48e2-4a5e-ab52-d80ab7e3b233'), rdflib.term.URIRef('https://www.bankofcanada.ca/id/051ef2ca-5641-45d9-99f8-66d44d5c3b99'), rdflib.term.URIRef('https://www.bankofcanada.ca/id/05b1dd74-98b1-4bf3-b609-f8eec395cbad'), rdflib.term.URIRef('https://www.bankofcanada.ca/id/061c8f13-3827-40d9-abb0-0318ac73f5e8'), rdflib.term.URIRef('https://www.bankofcanada.ca/id/068f3e2a-3f12-4cd9-a93e-9be1faf18fa1'), rdflib.term.URIRef('https://www.bankofcanada.ca/id/06c8263b-3a0b-4d80-80a3-72460dc99443'), rdflib.term.URIRef('https://www.bankofcanada.ca/id/079ac9ad-cd5f-4d1d-84a0-3ed6abf86288'), rdflib.term.URIRef('https://www.bankofcanada.ca/id/08909db5-bc70-4a37-8d1e-4d75f5dc9d67'), rdflib.term.URIRef('https://www.bankofcanada.ca/id/08a48f37-007c-4987-835b-60e18a306e83'), rdflib.term.URIRef('https://www.bankofcanada.ca/id/08b8dcd2-89d5-41ab-9407-50320a38739b'), rdflib.term.URIRef('https://www.bankofcanada.ca/id/0f673c41-7d48-4aa1-b5c8-2f9017d0729c'), rdflib.term.URIRef('https://www.bankofcanada.ca/id/11ea677a-7ddb-4f20-8a35-aba01dcdc8eb'), rdflib.term.URIRef('https://www.bankofcanada.ca/id/121d1811-03e5-4705-9cb9-317137b54598'), rdflib.term.URIRef('https://www.bankofcanada.ca/id/139d230a-4456-4600-a376-b94f4949fcd6'), rdflib.term.URIRef('https://www.bankofcanada.ca/id/15cc5a6b-ad94-44d1-b78d-193a8b5f9dd4'), rdflib.term.URIRef('https://www.bankofcanada.ca/id/16a4f403-621c-4566-ab39-01ebf74526ef'), rdflib.term.URIRef('https://www.bankofcanada.ca/id/187c2e9d-8ece-4a05-8931-7dd2745dae4d'), rdflib.term.URIRef('https://www.bankofcanada.ca/id/19bb2305-dc8f-461f-877d-069e1b88ef87'), rdflib.term.URIRef('https://www.bankofcanada.ca/id/1aa038a9-80e6-4964-88db-7d2dd5879dd9'), rdflib.term.URIRef('https://www.bankofcanada.ca/id/1b2a1f4f-f4fe-44cf-8af4-d3752b10eef2'), rdflib.term.URIRef('https://www.bankofcanada.ca/id/1b3ea91b-afd8-4f38-8564-0932aa6d0c91'), rdflib.term.URIRef('https://www.bankofcanada.ca/id/1c5df4ca-f2d2-4af5-b4f8-0ee62daeb06b'), rdflib.term.URIRef('https://www.bankofcanada.ca/id/1c9fe767-ad5b-4027-9ea2-254a850b9dfc'), rdflib.term.URIRef('https://www.bankofcanada.ca/id/1d0020f5-53df-4892-b0f6-4a5cfd83c980'), rdflib.term.URIRef('https://www.bankofcanada.ca/id/1f9b03f8-4cee-40c7-9ad1-471e23bd3189'), rdflib.term.URIRef('https://www.bankofcanada.ca/id/24fc7a2b-bb04-46b1-b5a5-493b991b6c8d'), rdflib.term.URIRef('https://www.bankofcanada.ca/id/25627b37-3c75-4cae-9cd4-fd9b9241243a'), rdflib.term.URIRef('https://www.bankofcanada.ca/id/26840c93-00ac-4229-825c-23039a13d5e3'), rdflib.term.URIRef('https://www.bankofcanada.ca/id/28fa9514-ab8e-40cd-8487-b12870123861'), rdflib.term.URIRef('https://www.bankofcanada.ca/id/2aa28dda-2852-4897-a62b-d43b6fdff745'), rdflib.term.URIRef('https://www.bankofcanada.ca/id/2c9327a0-c915-4165-b46f-31f5d1c4228a'), rdflib.term.URIRef('https://www.bankofcanada.ca/id/33ae54de-dde2-464b-ab79-fa261393d892'), rdflib.term.URIRef('https://www.bankofcanada.ca/id/34c41ce6-b82f-45d0-bfdd-1650fa44a291'), rdflib.term.URIRef('https://www.bankofcanada.ca/id/3735bbf0-d04a-4cf3-b650-ad2b661fc026'), rdflib.term.URIRef('https://www.bankofcanada.ca/id/37d63ad6-97a9-4589-ba2a-d8cee3179308'), rdflib.term.URIRef('https://www.bankofcanada.ca/id/391f2f8a-15ee-401d-8135-a86fb3087d6f'), rdflib.term.URIRef('https://www.bankofcanada.ca/id/3a7610d4-e44b-4f93-9d2a-246bf5172663'), rdflib.term.URIRef('https://www.bankofcanada.ca/id/3cb06eef-4cfb-47ef-b70d-b1cc4cea0054'), rdflib.term.URIRef('https://www.bankofcanada.ca/id/3e51d076-4943-49e6-8335-8089ab974b64'), rdflib.term.URIRef('https://www.bankofcanada.ca/id/40a89026-2ed6-4423-8574-88278f36634f'), rdflib.term.URIRef('https://www.bankofcanada.ca/id/40f22fc6-381a-404c-8572-50c0f724559c'), rdflib.term.URIRef('https://www.bankofcanada.ca/id/4168b633-6aa8-4c16-a888-04a741397522'), rdflib.term.URIRef('https://www.bankofcanada.ca/id/451a63c7-68a4-4fa9-93e1-74cb362179c0'), rdflib.term.URIRef('https://www.bankofcanada.ca/id/45244923-5a5c-4b9c-8b00-ddecf52b55a5'), rdflib.term.URIRef('https://www.bankofcanada.ca/id/460c43e6-f10d-43d5-babe-ca1bd00fa2e0'), rdflib.term.URIRef('https://www.bankofcanada.ca/id/47205b03-4643-4736-8653-16626c9f0582'), rdflib.term.URIRef('https://www.bankofcanada.ca/id/47b9edf8-f152-411a-ada6-8f09ae5c0da4'), rdflib.term.URIRef('https://www.bankofcanada.ca/id/4914e082-e31d-449c-a1e0-c8293825b612'), rdflib.term.URIRef('https://www.bankofcanada.ca/id/4bc6cda9-ea15-4e6e-be06-be9c142a038f'), rdflib.term.URIRef('https://www.bankofcanada.ca/id/4ccd2cb5-518d-4489-92c4-1951046a5d32'), rdflib.term.URIRef('https://www.bankofcanada.ca/id/4ef3a3b3-7fd3-47b8-8c4c-1eec8369b307'), rdflib.term.URIRef('https://www.bankofcanada.ca/id/51eaa49d-5223-45f5-b39c-75087fc53793'), rdflib.term.URIRef('https://www.bankofcanada.ca/id/527de490-3218-4fa9-b83c-07d73060ad79'), rdflib.term.URIRef('https://www.bankofcanada.ca/id/52cec4b7-833c-46a1-a663-f00849355ec9'), rdflib.term.URIRef('https://www.bankofcanada.ca/id/53fe37f0-b805-4674-bf4e-69769292764f'), rdflib.term.URIRef('https://www.bankofcanada.ca/id/54e3d68d-87e7-4ab5-b620-4967bdaa8dac'), rdflib.term.URIRef('https://www.bankofcanada.ca/id/55c5a5c3-7038-4935-83d1-8506415fdd66'), rdflib.term.URIRef('https://www.bankofcanada.ca/id/57cb6331-76b4-4d98-a8b6-977b79154609'), rdflib.term.URIRef('https://www.bankofcanada.ca/id/59bf3031-2ae7-4bef-8aa4-32dd811ca85d'), rdflib.term.URIRef('https://www.bankofcanada.ca/id/5a1aabf5-e7ff-41ae-920f-0635b30bffcc'), rdflib.term.URIRef('https://www.bankofcanada.ca/id/5a8fcfbe-4c62-4c44-8762-523632c18300'), rdflib.term.URIRef('https://www.bankofcanada.ca/id/5c95e50b-6081-40af-bd06-83782ceafab0'), rdflib.term.URIRef('https://www.bankofcanada.ca/id/5dc0d16b-ee58-4554-9cb1-0982efbc6794'), rdflib.term.URIRef('https://www.bankofcanada.ca/id/5ec5fba5-be39-4cd5-94b5-3cf0c8b2e7b1'), rdflib.term.URIRef('https://www.bankofcanada.ca/id/5ef59966-d4f3-4e45-bc24-4ef242746c74'), rdflib.term.URIRef('https://www.bankofcanada.ca/id/61087465-8379-483d-83aa-8acd1393df14'), rdflib.term.URIRef('https://www.bankofcanada.ca/id/637b0d2c-f57b-4b76-a00b-fc645f302b43'), rdflib.term.URIRef('https://www.bankofcanada.ca/id/63a03b07-7f5d-464e-8dd4-61e469f0472d'), rdflib.term.URIRef('https://www.bankofcanada.ca/id/66e26ac8-64d9-4c6c-a01c-b51a48c5b6fb'), rdflib.term.URIRef('https://www.bankofcanada.ca/id/66ffc970-124c-4f6c-8901-605c0c93b07c'), rdflib.term.URIRef('https://www.bankofcanada.ca/id/67394f6e-9aed-46f9-a8f3-1ad56728779f'), rdflib.term.URIRef('https://www.bankofcanada.ca/id/6799eeb1-c70e-44e6-a76c-3657a1381dd9'), rdflib.term.URIRef('https://www.bankofcanada.ca/id/6965c44e-19f5-4680-9933-1429579f0f1d'), rdflib.term.URIRef('https://www.bankofcanada.ca/id/6ab1e644-c8c9-45e5-8544-0ca7153e814f'), rdflib.term.URIRef('https://www.bankofcanada.ca/id/6bdca52c-eef0-4877-8726-db7b534782a9'), rdflib.term.URIRef('https://www.bankofcanada.ca/id/6c3ccdf1-14f6-4220-8abd-3d7961e6e71a'), rdflib.term.URIRef('https://www.bankofcanada.ca/id/6d74c6c0-4385-4a06-bc2b-1cf53678564d'), rdflib.term.URIRef('https://www.bankofcanada.ca/id/70b8369c-7f2b-4f46-b019-3fb9e8f87102'), rdflib.term.URIRef('https://www.bankofcanada.ca/id/71ba754a-049f-45b3-8b4b-48927a102607'), rdflib.term.URIRef('https://www.bankofcanada.ca/id/7285adf8-5cbc-42d7-abf9-061788cd1b60'), rdflib.term.URIRef('https://www.bankofcanada.ca/id/729a7aed-99bd-46d9-b6ae-8b630fff35d0'), rdflib.term.URIRef('https://www.bankofcanada.ca/id/731b1add-3d56-46eb-9406-7620166f8ede'), rdflib.term.URIRef('https://www.bankofcanada.ca/id/735e5dab-5ee0-46d7-babc-1b4c7831b6ef'), rdflib.term.URIRef('https://www.bankofcanada.ca/id/7428ca47-7164-4b5f-bf7e-034b7cc7cddf'), rdflib.term.URIRef('https://www.bankofcanada.ca/id/76fbed69-5cf0-45bb-a4c0-e329ba86e57c'), rdflib.term.URIRef('https://www.bankofcanada.ca/id/7762a3d2-3baf-4720-b912-32a7252594c0'), rdflib.term.URIRef('https://www.bankofcanada.ca/id/777f01f6-d2da-4734-8334-d9b86f577434'), rdflib.term.URIRef('https://www.bankofcanada.ca/id/788d5e67-615b-4bbd-b5fe-3c3c37316b39'), rdflib.term.URIRef('https://www.bankofcanada.ca/id/79ae6be4-b228-40c8-bc0c-4f96b7910877'), rdflib.term.URIRef('https://www.bankofcanada.ca/id/7a186f38-fc9b-4937-a48c-86284311149f'), rdflib.term.URIRef('https://www.bankofcanada.ca/id/7a80f7a4-d94c-4659-804c-ce3b80af2ffb'), rdflib.term.URIRef('https://www.bankofcanada.ca/id/7aa5ee99-e935-4372-b1eb-bd6f8d6930e0'), rdflib.term.URIRef('https://www.bankofcanada.ca/id/826bf519-aaf0-402c-903a-40a0b8772bf5'), rdflib.term.URIRef('https://www.bankofcanada.ca/id/84b42aeb-5296-4979-ba39-a14b29eba30c'), rdflib.term.URIRef('https://www.bankofcanada.ca/id/85104dbd-3a0b-456b-97ed-6a5d1fd02941'), rdflib.term.URIRef('https://www.bankofcanada.ca/id/857449bb-e51f-4c63-a4a3-8e3402fe2816'), rdflib.term.URIRef('https://www.bankofcanada.ca/id/86cb56a8-ff00-43c5-9ecd-40dcd224c6e9'), rdflib.term.URIRef('https://www.bankofcanada.ca/id/8c6d4ea2-b9fc-44a6-ba37-89bb7a60a78f'), rdflib.term.URIRef('https://www.bankofcanada.ca/id/8d4fd70f-98b8-40ca-86e5-c000f129498d'), rdflib.term.URIRef('https://www.bankofcanada.ca/id/8e5fa8fd-e3c8-4910-88eb-2cfb75cdf2be'), rdflib.term.URIRef('https://www.bankofcanada.ca/id/8fff1267-ae46-4cb1-a99f-2eed0b7a582a'), rdflib.term.URIRef('https://www.bankofcanada.ca/id/9367558f-299e-4def-816c-b30f2e4a7633'), rdflib.term.URIRef('https://www.bankofcanada.ca/id/93d8cc3f-687c-4145-a96b-6830ea1f5c9e'), rdflib.term.URIRef('https://www.bankofcanada.ca/id/99ed53bd-450d-49c0-b017-9c8a38c42b21'), rdflib.term.URIRef('https://www.bankofcanada.ca/id/9a9ab9e6-2023-4dcb-a037-c9be12fdca6f'), rdflib.term.URIRef('https://www.bankofcanada.ca/id/9b782257-fb46-4177-a3f4-14f3c4c18e22'), rdflib.term.URIRef('https://www.bankofcanada.ca/id/9c109e11-d208-456e-8177-2ea926c821f0'), rdflib.term.URIRef('https://www.bankofcanada.ca/id/9d900bd7-f2f3-41cf-a1c1-4149288f6c6b'), rdflib.term.URIRef('https://www.bankofcanada.ca/id/9defaf52-e8c1-433c-9d14-72da78691bb6'), rdflib.term.URIRef('https://www.bankofcanada.ca/id/9eaadc2b-f661-4fe6-96ff-6667e21fa763'), rdflib.term.URIRef('https://www.bankofcanada.ca/id/9eb0646a-9689-4d6a-9ec1-e84fcccd0f6d'), rdflib.term.URIRef('https://www.bankofcanada.ca/id/9f23331f-b500-44fd-93bd-3e2376f06f69'), rdflib.term.URIRef('https://www.bankofcanada.ca/id/a03f4bb9-bd9b-49ba-aa0d-da0028eb9332'), rdflib.term.URIRef('https://www.bankofcanada.ca/id/a0ae98ba-6020-48f6-b01d-018234c5dfc1'), rdflib.term.URIRef('https://www.bankofcanada.ca/id/a18ef121-9b9d-4bcb-ae17-ecacbcdc4401'), rdflib.term.URIRef('https://www.bankofcanada.ca/id/a489b132-164a-44a0-baf1-04b80c3de643'), rdflib.term.URIRef('https://www.bankofcanada.ca/id/a48df474-abb0-4547-bf95-52104181b0ac'), rdflib.term.URIRef('https://www.bankofcanada.ca/id/a51b924f-6e03-4b6b-a13f-8a9ad1efecc4'), rdflib.term.URIRef('https://www.bankofcanada.ca/id/a5b65b03-3f2d-4ced-916f-e09c0780a8b5'), rdflib.term.URIRef('https://www.bankofcanada.ca/id/a76e0a0a-7ca6-45e6-b18e-388af3f39960'), rdflib.term.URIRef('https://www.bankofcanada.ca/id/a976471a-f959-43da-b2c6-2bbdb3418eb8'), rdflib.term.URIRef('https://www.bankofcanada.ca/id/affb98c6-01c5-47b7-a188-0e5c06110c9d'), rdflib.term.URIRef('https://www.bankofcanada.ca/id/b4b016c5-1c4c-40c0-9358-cea613759227'), rdflib.term.URIRef('https://www.bankofcanada.ca/id/b4b9a65a-eda5-403e-a965-da9946491057'), rdflib.term.URIRef('https://www.bankofcanada.ca/id/b50afc9a-5d74-492c-9885-4be843e95339'), rdflib.term.URIRef('https://www.bankofcanada.ca/id/b51ffeab-4385-4aab-906d-6067ba0e4b01'), rdflib.term.URIRef('https://www.bankofcanada.ca/id/b6ad2f67-205e-4bff-83df-6664a4e2bac1'), rdflib.term.URIRef('https://www.bankofcanada.ca/id/b8297d1e-e427-4642-b251-ea90e3a1f08d'), rdflib.term.URIRef('https://www.bankofcanada.ca/id/b98a1be1-9020-49f0-9339-3496cf5cb099'), rdflib.term.URIRef('https://www.bankofcanada.ca/id/ba1da3b0-aa49-43fc-8299-ee5309be59df'), rdflib.term.URIRef('https://www.bankofcanada.ca/id/bb0e0c1f-1e95-46e0-be9c-caf74145cbce'), rdflib.term.URIRef('https://www.bankofcanada.ca/id/bb2a6211-de0b-4a23-bced-4537dffb6f52'), rdflib.term.URIRef('https://www.bankofcanada.ca/id/bc2f2b6d-810f-4f19-b1f5-93d18eb595c3'), rdflib.term.URIRef('https://www.bankofcanada.ca/id/bcb343ac-885e-48c6-b3ac-6eef65045a33'), rdflib.term.URIRef('https://www.bankofcanada.ca/id/be534c60-6898-4279-86fe-c28a447a9778'), rdflib.term.URIRef('https://www.bankofcanada.ca/id/bfe38aa0-6748-4fcd-9aa7-e08ccef377f6'), rdflib.term.URIRef('https://www.bankofcanada.ca/id/c196370a-6b93-4acc-b5d4-2107990b24c3'), rdflib.term.URIRef('https://www.bankofcanada.ca/id/c204e4eb-ce85-4fdf-a3c0-1769fa6635e8'), rdflib.term.URIRef('https://www.bankofcanada.ca/id/c2207e23-1dd8-4945-aecc-dd674d3516b8'), rdflib.term.URIRef('https://www.bankofcanada.ca/id/c334df88-a907-43f8-8f3a-d0ee54299b40'), rdflib.term.URIRef('https://www.bankofcanada.ca/id/c814a71f-820d-4c5c-ac9e-01681112e0b5'), rdflib.term.URIRef('https://www.bankofcanada.ca/id/ce41d491-08aa-4902-9ad7-fd3b0103d4eb'), rdflib.term.URIRef('https://www.bankofcanada.ca/id/cf5e4349-6f2b-407a-aa58-91766f2bbeeb'), rdflib.term.URIRef('https://www.bankofcanada.ca/id/cfd9a1b2-f6cb-484a-9857-e9eefbb3317a'), rdflib.term.URIRef('https://www.bankofcanada.ca/id/d2066ef3-509f-414c-a975-08a0a8c48e63'), rdflib.term.URIRef('https://www.bankofcanada.ca/id/d7d6f4a3-ebdf-41d1-bea1-1f99df29edbb'), rdflib.term.URIRef('https://www.bankofcanada.ca/id/d82460bf-85a6-43ec-83ad-8d5bb4d601c7'), rdflib.term.URIRef('https://www.bankofcanada.ca/id/d866b5fc-e751-4c52-ab39-1f5ee4d05f69'), rdflib.term.URIRef('https://www.bankofcanada.ca/id/d8a58e87-492b-43c2-9468-d608f8c0ab66'), rdflib.term.URIRef('https://www.bankofcanada.ca/id/db98d16e-6acc-4a14-8af9-e5a657fa043f'), rdflib.term.URIRef('https://www.bankofcanada.ca/id/dc57e4ed-c083-4088-bffe-99943155f6ae'), rdflib.term.URIRef('https://www.bankofcanada.ca/id/dc6e23a8-ad59-4c0f-824e-ea0b9b3a4c4c'), rdflib.term.URIRef('https://www.bankofcanada.ca/id/dea1fcd2-52bb-4f4d-ba4b-759cf599c452'), rdflib.term.URIRef('https://www.bankofcanada.ca/id/e08230b3-3339-4004-bfb5-79feb0b81950'), rdflib.term.URIRef('https://www.bankofcanada.ca/id/e0f46a3a-9c74-494e-8182-aee3c4a542e5'), rdflib.term.URIRef('https://www.bankofcanada.ca/id/e16e7875-f69f-434d-ba59-0118a9188a7d'), rdflib.term.URIRef('https://www.bankofcanada.ca/id/e19fc153-2161-4642-ad35-10e037276e5a'), rdflib.term.URIRef('https://www.bankofcanada.ca/id/e1bb29c0-9571-42d8-84ed-e21fd158af16'), rdflib.term.URIRef('https://www.bankofcanada.ca/id/e2bb1033-7b23-4bae-9e6e-ee3b304a2b6a'), rdflib.term.URIRef('https://www.bankofcanada.ca/id/e2c4dbcd-346b-4147-8a80-17b08067da5d'), rdflib.term.URIRef('https://www.bankofcanada.ca/id/e2f5e789-8bb3-4c3f-abd2-b4fa67021b39'), rdflib.term.URIRef('https://www.bankofcanada.ca/id/e3256a78-ba18-460e-a5c9-22c2eceae1bb'), rdflib.term.URIRef('https://www.bankofcanada.ca/id/e41c4c8a-dc5b-454f-a67c-81967a54732d'), rdflib.term.URIRef('https://www.bankofcanada.ca/id/e5e3186f-968c-4bc2-a48b-3cffc3a56a1a'), rdflib.term.URIRef('https://www.bankofcanada.ca/id/e85dd048-b27e-4802-9c08-89424ac5c82a'), rdflib.term.URIRef('https://www.bankofcanada.ca/id/e941f6f2-8e80-4cfb-8491-ccaa363aaa2f'), rdflib.term.URIRef('https://www.bankofcanada.ca/id/ea0b1794-4f2c-4f29-ab86-5872e4de24ae'), rdflib.term.URIRef('https://www.bankofcanada.ca/id/ebb9995c-ccd4-47c2-a09f-249c652f66f7'), rdflib.term.URIRef('https://www.bankofcanada.ca/id/ebde4511-b6d0-4473-b484-f8151a06122f'), rdflib.term.URIRef('https://www.bankofcanada.ca/id/ec75b6d2-b432-4ed3-9aa2-73834579b9aa'), rdflib.term.URIRef('https://www.bankofcanada.ca/id/efbf5aa9-c793-41e6-9c19-daf3d2e37ef8'), rdflib.term.URIRef('https://www.bankofcanada.ca/id/f051fce5-8365-4e60-be72-ec8b29ebd618'), rdflib.term.URIRef('https://www.bankofcanada.ca/id/f0ac9425-cb37-438d-9550-be9807f10059'), rdflib.term.URIRef('https://www.bankofcanada.ca/id/f0fbbee6-0505-4c43-a106-2d1758ad277a'), rdflib.term.URIRef('https://www.bankofcanada.ca/id/f1e84a70-38f6-45a6-b4ef-bb03e5888005'), rdflib.term.URIRef('https://www.bankofcanada.ca/id/f2c9809e-c8ae-4541-b2c5-1e78fd250b30'), rdflib.term.URIRef('https://www.bankofcanada.ca/id/f4516b1a-adda-4f7a-8793-cba045e27ce4'), rdflib.term.URIRef('https://www.bankofcanada.ca/id/f49458e6-963e-42a8-b8d8-6b0a343ccf68'), rdflib.term.URIRef('https://www.bankofcanada.ca/id/f7c8eb7d-b6f8-4104-90b7-b65b2919e6fe'), rdflib.term.URIRef('https://www.bankofcanada.ca/id/f7e80f71-0499-45ed-bef0-bd4b525734fb'), rdflib.term.URIRef('https://www.bankofcanada.ca/id/fe30e3d5-c880-4f1d-86cc-c7fe21ad6355')]\n"
     ]
    }
   ],
   "source": [
    "# Search for all triples describing ISO 2 letter language codes\n",
    "two_letter_subject = list(g.subjects(RDF.type, BOC.Alpha2CodeLanguage))\n",
    "print(two_letter_subject)"
   ]
  },
  {
   "cell_type": "code",
   "execution_count": 28,
   "metadata": {},
   "outputs": [
    {
     "data": {
      "text/html": [
       "<div>\n",
       "<style scoped>\n",
       "    .dataframe tbody tr th:only-of-type {\n",
       "        vertical-align: middle;\n",
       "    }\n",
       "\n",
       "    .dataframe tbody tr th {\n",
       "        vertical-align: top;\n",
       "    }\n",
       "\n",
       "    .dataframe thead th {\n",
       "        text-align: right;\n",
       "    }\n",
       "</style>\n",
       "<table border=\"1\" class=\"dataframe\">\n",
       "  <thead>\n",
       "    <tr style=\"text-align: right;\">\n",
       "      <th></th>\n",
       "      <th>two_letter_subject</th>\n",
       "    </tr>\n",
       "  </thead>\n",
       "  <tbody>\n",
       "    <tr>\n",
       "      <th>0</th>\n",
       "      <td>https://www.bankofcanada.ca/id/0156c97d-07d6-4...</td>\n",
       "    </tr>\n",
       "    <tr>\n",
       "      <th>1</th>\n",
       "      <td>https://www.bankofcanada.ca/id/03375036-4837-4...</td>\n",
       "    </tr>\n",
       "    <tr>\n",
       "      <th>2</th>\n",
       "      <td>https://www.bankofcanada.ca/id/04a982f6-48e2-4...</td>\n",
       "    </tr>\n",
       "    <tr>\n",
       "      <th>3</th>\n",
       "      <td>https://www.bankofcanada.ca/id/051ef2ca-5641-4...</td>\n",
       "    </tr>\n",
       "    <tr>\n",
       "      <th>4</th>\n",
       "      <td>https://www.bankofcanada.ca/id/05b1dd74-98b1-4...</td>\n",
       "    </tr>\n",
       "  </tbody>\n",
       "</table>\n",
       "</div>"
      ],
      "text/plain": [
       "                                  two_letter_subject\n",
       "0  https://www.bankofcanada.ca/id/0156c97d-07d6-4...\n",
       "1  https://www.bankofcanada.ca/id/03375036-4837-4...\n",
       "2  https://www.bankofcanada.ca/id/04a982f6-48e2-4...\n",
       "3  https://www.bankofcanada.ca/id/051ef2ca-5641-4...\n",
       "4  https://www.bankofcanada.ca/id/05b1dd74-98b1-4..."
      ]
     },
     "execution_count": 28,
     "metadata": {},
     "output_type": "execute_result"
    }
   ],
   "source": [
    "# put this into a DataFrame\n",
    "import pandas as pd\n",
    "lang_df = pd.DataFrame(two_letter_subject, columns=['two_letter_subject'])\n",
    "\n",
    "lang_df.head()"
   ]
  },
  {
   "cell_type": "code",
   "execution_count": 31,
   "metadata": {},
   "outputs": [
    {
     "data": {
      "text/html": [
       "<div>\n",
       "<style scoped>\n",
       "    .dataframe tbody tr th:only-of-type {\n",
       "        vertical-align: middle;\n",
       "    }\n",
       "\n",
       "    .dataframe tbody tr th {\n",
       "        vertical-align: top;\n",
       "    }\n",
       "\n",
       "    .dataframe thead th {\n",
       "        text-align: right;\n",
       "    }\n",
       "</style>\n",
       "<table border=\"1\" class=\"dataframe\">\n",
       "  <thead>\n",
       "    <tr style=\"text-align: right;\">\n",
       "      <th></th>\n",
       "      <th>two_letter_subject</th>\n",
       "      <th>two_letter_label</th>\n",
       "    </tr>\n",
       "  </thead>\n",
       "  <tbody>\n",
       "    <tr>\n",
       "      <th>0</th>\n",
       "      <td>https://www.bankofcanada.ca/id/0156c97d-07d6-4...</td>\n",
       "      <td>th</td>\n",
       "    </tr>\n",
       "    <tr>\n",
       "      <th>1</th>\n",
       "      <td>https://www.bankofcanada.ca/id/03375036-4837-4...</td>\n",
       "      <td>ik</td>\n",
       "    </tr>\n",
       "    <tr>\n",
       "      <th>2</th>\n",
       "      <td>https://www.bankofcanada.ca/id/04a982f6-48e2-4...</td>\n",
       "      <td>si</td>\n",
       "    </tr>\n",
       "    <tr>\n",
       "      <th>3</th>\n",
       "      <td>https://www.bankofcanada.ca/id/051ef2ca-5641-4...</td>\n",
       "      <td>ch</td>\n",
       "    </tr>\n",
       "    <tr>\n",
       "      <th>4</th>\n",
       "      <td>https://www.bankofcanada.ca/id/05b1dd74-98b1-4...</td>\n",
       "      <td>li</td>\n",
       "    </tr>\n",
       "  </tbody>\n",
       "</table>\n",
       "</div>"
      ],
      "text/plain": [
       "                                  two_letter_subject two_letter_label\n",
       "0  https://www.bankofcanada.ca/id/0156c97d-07d6-4...               th\n",
       "1  https://www.bankofcanada.ca/id/03375036-4837-4...               ik\n",
       "2  https://www.bankofcanada.ca/id/04a982f6-48e2-4...               si\n",
       "3  https://www.bankofcanada.ca/id/051ef2ca-5641-4...               ch\n",
       "4  https://www.bankofcanada.ca/id/05b1dd74-98b1-4...               li"
      ]
     },
     "execution_count": 31,
     "metadata": {},
     "output_type": "execute_result"
    }
   ],
   "source": [
    "# get the associated string labels for each language codes\n",
    "lang_df['two_letter_label'] = ''\n",
    "for row_num, row_data in lang_df.iterrows():\n",
    "    label = g.value(row_data['two_letter_subject'], RDFS.label)\n",
    "    lang_df.loc[row_num, 'two_letter_label'] = label\n",
    "    \n",
    "lang_df.head()"
   ]
  },
  {
   "cell_type": "code",
   "execution_count": 32,
   "metadata": {},
   "outputs": [
    {
     "data": {
      "text/html": [
       "<div>\n",
       "<style scoped>\n",
       "    .dataframe tbody tr th:only-of-type {\n",
       "        vertical-align: middle;\n",
       "    }\n",
       "\n",
       "    .dataframe tbody tr th {\n",
       "        vertical-align: top;\n",
       "    }\n",
       "\n",
       "    .dataframe thead th {\n",
       "        text-align: right;\n",
       "    }\n",
       "</style>\n",
       "<table border=\"1\" class=\"dataframe\">\n",
       "  <thead>\n",
       "    <tr style=\"text-align: right;\">\n",
       "      <th></th>\n",
       "      <th>two_letter_subject</th>\n",
       "      <th>two_letter_label</th>\n",
       "      <th>language_subject</th>\n",
       "      <th>language_label</th>\n",
       "    </tr>\n",
       "  </thead>\n",
       "  <tbody>\n",
       "    <tr>\n",
       "      <th>0</th>\n",
       "      <td>https://www.bankofcanada.ca/id/0156c97d-07d6-4...</td>\n",
       "      <td>th</td>\n",
       "      <td>https://www.bankofcanada.ca/id/057bd7b0-3b29-4...</td>\n",
       "      <td>Thai</td>\n",
       "    </tr>\n",
       "    <tr>\n",
       "      <th>1</th>\n",
       "      <td>https://www.bankofcanada.ca/id/03375036-4837-4...</td>\n",
       "      <td>ik</td>\n",
       "      <td>https://www.bankofcanada.ca/id/f78dd330-b7d4-4...</td>\n",
       "      <td>Inupiaq</td>\n",
       "    </tr>\n",
       "    <tr>\n",
       "      <th>2</th>\n",
       "      <td>https://www.bankofcanada.ca/id/04a982f6-48e2-4...</td>\n",
       "      <td>si</td>\n",
       "      <td>https://www.bankofcanada.ca/id/d0ff5be7-108a-4...</td>\n",
       "      <td>Sinhala</td>\n",
       "    </tr>\n",
       "    <tr>\n",
       "      <th>3</th>\n",
       "      <td>https://www.bankofcanada.ca/id/051ef2ca-5641-4...</td>\n",
       "      <td>ch</td>\n",
       "      <td>https://www.bankofcanada.ca/id/09a4ebfe-8300-4...</td>\n",
       "      <td>Chamorro</td>\n",
       "    </tr>\n",
       "    <tr>\n",
       "      <th>4</th>\n",
       "      <td>https://www.bankofcanada.ca/id/05b1dd74-98b1-4...</td>\n",
       "      <td>li</td>\n",
       "      <td>https://www.bankofcanada.ca/id/74a6898d-b0be-4...</td>\n",
       "      <td>Limburgan</td>\n",
       "    </tr>\n",
       "  </tbody>\n",
       "</table>\n",
       "</div>"
      ],
      "text/plain": [
       "                                  two_letter_subject two_letter_label  \\\n",
       "0  https://www.bankofcanada.ca/id/0156c97d-07d6-4...               th   \n",
       "1  https://www.bankofcanada.ca/id/03375036-4837-4...               ik   \n",
       "2  https://www.bankofcanada.ca/id/04a982f6-48e2-4...               si   \n",
       "3  https://www.bankofcanada.ca/id/051ef2ca-5641-4...               ch   \n",
       "4  https://www.bankofcanada.ca/id/05b1dd74-98b1-4...               li   \n",
       "\n",
       "                                    language_subject language_label  \n",
       "0  https://www.bankofcanada.ca/id/057bd7b0-3b29-4...           Thai  \n",
       "1  https://www.bankofcanada.ca/id/f78dd330-b7d4-4...        Inupiaq  \n",
       "2  https://www.bankofcanada.ca/id/d0ff5be7-108a-4...        Sinhala  \n",
       "3  https://www.bankofcanada.ca/id/09a4ebfe-8300-4...       Chamorro  \n",
       "4  https://www.bankofcanada.ca/id/74a6898d-b0be-4...      Limburgan  "
      ]
     },
     "execution_count": 32,
     "metadata": {},
     "output_type": "execute_result"
    }
   ],
   "source": [
    "# find the associated language subject and label that is denoted by each two letter code\n",
    "lang_df['language_subject'] = ''\n",
    "lang_df['language_label'] = ''\n",
    "for row_num, row_data in lang_df.iterrows():\n",
    "    id = g.value(row_data['two_letter_subject'], BOC.denotes)\n",
    "    \n",
    "    # lookup the label for the language\n",
    "    label = g.value(id, RDFS.label)\n",
    "    \n",
    "    # add the language id and label to the dataframe\n",
    "    lang_df.loc[row_num, 'language_subject'] = id\n",
    "    lang_df.loc[row_num, 'language_label'] = label\n",
    "    \n",
    "lang_df.head()   # what about viewing the last 5 rows?"
   ]
  },
  {
   "cell_type": "code",
   "execution_count": null,
   "metadata": {},
   "outputs": [],
   "source": [
    "# save the two letter labels and language labels to CSV\n",
    "lang_df[['two_letter_label', 'language_label']].to_csv('language_labels.csv', index=False)"
   ]
  },
  {
   "cell_type": "markdown",
   "metadata": {},
   "source": [
    "### Exercise:\n",
    "* Add a column for each language's Indigenous name and populate this column from the RDF Graph\n",
    "* Hint: the *predicate* for a language's Indigenous name is `BOC.hasIndigenousName`"
   ]
  },
  {
   "cell_type": "code",
   "execution_count": 42,
   "metadata": {},
   "outputs": [
    {
     "ename": "UnicodeEncodeError",
     "evalue": "'ascii' codec can't encode character '\\u1e41' in position 13: ordinal not in range(128)",
     "output_type": "error",
     "traceback": [
      "\u001b[1;31m---------------------------------------------------------------------------\u001b[0m",
      "\u001b[1;31mUnicodeEncodeError\u001b[0m                        Traceback (most recent call last)",
      "\u001b[1;32mc:\\Users\\simeon wong\\Downloads\\boc_python\\boc_lesson.ipynb Cell 58\u001b[0m line \u001b[0;36m1\n\u001b[0;32m     <a href='vscode-notebook-cell:/c%3A/Users/simeon%20wong/Downloads/boc_python/boc_lesson.ipynb#Y115sZmlsZQ%3D%3D?line=10'>11</a>\u001b[0m \u001b[39m# why encoding matters: let's try saving to CSV with the older ascii encoding\u001b[39;00m\n\u001b[0;32m     <a href='vscode-notebook-cell:/c%3A/Users/simeon%20wong/Downloads/boc_python/boc_lesson.ipynb#Y115sZmlsZQ%3D%3D?line=11'>12</a>\u001b[0m lang_df[[\u001b[39m'\u001b[39m\u001b[39mtwo_letter_label\u001b[39m\u001b[39m'\u001b[39m, \u001b[39m'\u001b[39m\u001b[39mlanguage_label\u001b[39m\u001b[39m'\u001b[39m, \u001b[39m'\u001b[39m\u001b[39mindigenous_name\u001b[39m\u001b[39m'\u001b[39m]]\u001b[39m.\u001b[39mto_csv(\u001b[39m'\u001b[39m\u001b[39mlanguage_labels.csv\u001b[39m\u001b[39m'\u001b[39m, index\u001b[39m=\u001b[39m\u001b[39mFalse\u001b[39;00m)  \u001b[39m# by default, encoding is UTF-8\u001b[39;00m\n\u001b[1;32m---> <a href='vscode-notebook-cell:/c%3A/Users/simeon%20wong/Downloads/boc_python/boc_lesson.ipynb#Y115sZmlsZQ%3D%3D?line=12'>13</a>\u001b[0m lang_df[[\u001b[39m'\u001b[39;49m\u001b[39mtwo_letter_label\u001b[39;49m\u001b[39m'\u001b[39;49m, \u001b[39m'\u001b[39;49m\u001b[39mlanguage_label\u001b[39;49m\u001b[39m'\u001b[39;49m, \u001b[39m'\u001b[39;49m\u001b[39mindigenous_name\u001b[39;49m\u001b[39m'\u001b[39;49m]]\u001b[39m.\u001b[39;49mto_csv(\u001b[39m'\u001b[39;49m\u001b[39mlanguage_labels_ascii.csv\u001b[39;49m\u001b[39m'\u001b[39;49m, index\u001b[39m=\u001b[39;49m\u001b[39mFalse\u001b[39;49;00m, encoding\u001b[39m=\u001b[39;49m\u001b[39m'\u001b[39;49m\u001b[39mascii\u001b[39;49m\u001b[39m'\u001b[39;49m)\n",
      "File \u001b[1;32mc:\\Users\\simeon wong\\AppData\\Local\\miniconda3\\envs\\p311\\Lib\\site-packages\\pandas\\core\\generic.py:3772\u001b[0m, in \u001b[0;36mNDFrame.to_csv\u001b[1;34m(self, path_or_buf, sep, na_rep, float_format, columns, header, index, index_label, mode, encoding, compression, quoting, quotechar, lineterminator, chunksize, date_format, doublequote, escapechar, decimal, errors, storage_options)\u001b[0m\n\u001b[0;32m   3761\u001b[0m df \u001b[39m=\u001b[39m \u001b[39mself\u001b[39m \u001b[39mif\u001b[39;00m \u001b[39misinstance\u001b[39m(\u001b[39mself\u001b[39m, ABCDataFrame) \u001b[39melse\u001b[39;00m \u001b[39mself\u001b[39m\u001b[39m.\u001b[39mto_frame()\n\u001b[0;32m   3763\u001b[0m formatter \u001b[39m=\u001b[39m DataFrameFormatter(\n\u001b[0;32m   3764\u001b[0m     frame\u001b[39m=\u001b[39mdf,\n\u001b[0;32m   3765\u001b[0m     header\u001b[39m=\u001b[39mheader,\n\u001b[1;32m   (...)\u001b[0m\n\u001b[0;32m   3769\u001b[0m     decimal\u001b[39m=\u001b[39mdecimal,\n\u001b[0;32m   3770\u001b[0m )\n\u001b[1;32m-> 3772\u001b[0m \u001b[39mreturn\u001b[39;00m DataFrameRenderer(formatter)\u001b[39m.\u001b[39;49mto_csv(\n\u001b[0;32m   3773\u001b[0m     path_or_buf,\n\u001b[0;32m   3774\u001b[0m     lineterminator\u001b[39m=\u001b[39;49mlineterminator,\n\u001b[0;32m   3775\u001b[0m     sep\u001b[39m=\u001b[39;49msep,\n\u001b[0;32m   3776\u001b[0m     encoding\u001b[39m=\u001b[39;49mencoding,\n\u001b[0;32m   3777\u001b[0m     errors\u001b[39m=\u001b[39;49merrors,\n\u001b[0;32m   3778\u001b[0m     compression\u001b[39m=\u001b[39;49mcompression,\n\u001b[0;32m   3779\u001b[0m     quoting\u001b[39m=\u001b[39;49mquoting,\n\u001b[0;32m   3780\u001b[0m     columns\u001b[39m=\u001b[39;49mcolumns,\n\u001b[0;32m   3781\u001b[0m     index_label\u001b[39m=\u001b[39;49mindex_label,\n\u001b[0;32m   3782\u001b[0m     mode\u001b[39m=\u001b[39;49mmode,\n\u001b[0;32m   3783\u001b[0m     chunksize\u001b[39m=\u001b[39;49mchunksize,\n\u001b[0;32m   3784\u001b[0m     quotechar\u001b[39m=\u001b[39;49mquotechar,\n\u001b[0;32m   3785\u001b[0m     date_format\u001b[39m=\u001b[39;49mdate_format,\n\u001b[0;32m   3786\u001b[0m     doublequote\u001b[39m=\u001b[39;49mdoublequote,\n\u001b[0;32m   3787\u001b[0m     escapechar\u001b[39m=\u001b[39;49mescapechar,\n\u001b[0;32m   3788\u001b[0m     storage_options\u001b[39m=\u001b[39;49mstorage_options,\n\u001b[0;32m   3789\u001b[0m )\n",
      "File \u001b[1;32mc:\\Users\\simeon wong\\AppData\\Local\\miniconda3\\envs\\p311\\Lib\\site-packages\\pandas\\io\\formats\\format.py:1186\u001b[0m, in \u001b[0;36mDataFrameRenderer.to_csv\u001b[1;34m(self, path_or_buf, encoding, sep, columns, index_label, mode, compression, quoting, quotechar, lineterminator, chunksize, date_format, doublequote, escapechar, errors, storage_options)\u001b[0m\n\u001b[0;32m   1165\u001b[0m     created_buffer \u001b[39m=\u001b[39m \u001b[39mFalse\u001b[39;00m\n\u001b[0;32m   1167\u001b[0m csv_formatter \u001b[39m=\u001b[39m CSVFormatter(\n\u001b[0;32m   1168\u001b[0m     path_or_buf\u001b[39m=\u001b[39mpath_or_buf,\n\u001b[0;32m   1169\u001b[0m     lineterminator\u001b[39m=\u001b[39mlineterminator,\n\u001b[1;32m   (...)\u001b[0m\n\u001b[0;32m   1184\u001b[0m     formatter\u001b[39m=\u001b[39m\u001b[39mself\u001b[39m\u001b[39m.\u001b[39mfmt,\n\u001b[0;32m   1185\u001b[0m )\n\u001b[1;32m-> 1186\u001b[0m csv_formatter\u001b[39m.\u001b[39;49msave()\n\u001b[0;32m   1188\u001b[0m \u001b[39mif\u001b[39;00m created_buffer:\n\u001b[0;32m   1189\u001b[0m     \u001b[39massert\u001b[39;00m \u001b[39misinstance\u001b[39m(path_or_buf, StringIO)\n",
      "File \u001b[1;32mc:\\Users\\simeon wong\\AppData\\Local\\miniconda3\\envs\\p311\\Lib\\site-packages\\pandas\\io\\formats\\csvs.py:259\u001b[0m, in \u001b[0;36mCSVFormatter.save\u001b[1;34m(self)\u001b[0m\n\u001b[0;32m    240\u001b[0m \u001b[39mwith\u001b[39;00m get_handle(\n\u001b[0;32m    241\u001b[0m     \u001b[39mself\u001b[39m\u001b[39m.\u001b[39mfilepath_or_buffer,\n\u001b[0;32m    242\u001b[0m     \u001b[39mself\u001b[39m\u001b[39m.\u001b[39mmode,\n\u001b[1;32m   (...)\u001b[0m\n\u001b[0;32m    247\u001b[0m ) \u001b[39mas\u001b[39;00m handles:\n\u001b[0;32m    248\u001b[0m     \u001b[39m# Note: self.encoding is irrelevant here\u001b[39;00m\n\u001b[0;32m    249\u001b[0m     \u001b[39mself\u001b[39m\u001b[39m.\u001b[39mwriter \u001b[39m=\u001b[39m csvlib\u001b[39m.\u001b[39mwriter(\n\u001b[0;32m    250\u001b[0m         handles\u001b[39m.\u001b[39mhandle,\n\u001b[0;32m    251\u001b[0m         lineterminator\u001b[39m=\u001b[39m\u001b[39mself\u001b[39m\u001b[39m.\u001b[39mlineterminator,\n\u001b[1;32m   (...)\u001b[0m\n\u001b[0;32m    256\u001b[0m         quotechar\u001b[39m=\u001b[39m\u001b[39mself\u001b[39m\u001b[39m.\u001b[39mquotechar,\n\u001b[0;32m    257\u001b[0m     )\n\u001b[1;32m--> 259\u001b[0m     \u001b[39mself\u001b[39;49m\u001b[39m.\u001b[39;49m_save()\n",
      "File \u001b[1;32mc:\\Users\\simeon wong\\AppData\\Local\\miniconda3\\envs\\p311\\Lib\\site-packages\\pandas\\io\\formats\\csvs.py:264\u001b[0m, in \u001b[0;36mCSVFormatter._save\u001b[1;34m(self)\u001b[0m\n\u001b[0;32m    262\u001b[0m \u001b[39mif\u001b[39;00m \u001b[39mself\u001b[39m\u001b[39m.\u001b[39m_need_to_save_header:\n\u001b[0;32m    263\u001b[0m     \u001b[39mself\u001b[39m\u001b[39m.\u001b[39m_save_header()\n\u001b[1;32m--> 264\u001b[0m \u001b[39mself\u001b[39;49m\u001b[39m.\u001b[39;49m_save_body()\n",
      "File \u001b[1;32mc:\\Users\\simeon wong\\AppData\\Local\\miniconda3\\envs\\p311\\Lib\\site-packages\\pandas\\io\\formats\\csvs.py:302\u001b[0m, in \u001b[0;36mCSVFormatter._save_body\u001b[1;34m(self)\u001b[0m\n\u001b[0;32m    300\u001b[0m \u001b[39mif\u001b[39;00m start_i \u001b[39m>\u001b[39m\u001b[39m=\u001b[39m end_i:\n\u001b[0;32m    301\u001b[0m     \u001b[39mbreak\u001b[39;00m\n\u001b[1;32m--> 302\u001b[0m \u001b[39mself\u001b[39;49m\u001b[39m.\u001b[39;49m_save_chunk(start_i, end_i)\n",
      "File \u001b[1;32mc:\\Users\\simeon wong\\AppData\\Local\\miniconda3\\envs\\p311\\Lib\\site-packages\\pandas\\io\\formats\\csvs.py:313\u001b[0m, in \u001b[0;36mCSVFormatter._save_chunk\u001b[1;34m(self, start_i, end_i)\u001b[0m\n\u001b[0;32m    310\u001b[0m data \u001b[39m=\u001b[39m [res\u001b[39m.\u001b[39miget_values(i) \u001b[39mfor\u001b[39;00m i \u001b[39min\u001b[39;00m \u001b[39mrange\u001b[39m(\u001b[39mlen\u001b[39m(res\u001b[39m.\u001b[39mitems))]\n\u001b[0;32m    312\u001b[0m ix \u001b[39m=\u001b[39m \u001b[39mself\u001b[39m\u001b[39m.\u001b[39mdata_index[slicer]\u001b[39m.\u001b[39m_format_native_types(\u001b[39m*\u001b[39m\u001b[39m*\u001b[39m\u001b[39mself\u001b[39m\u001b[39m.\u001b[39m_number_format)\n\u001b[1;32m--> 313\u001b[0m libwriters\u001b[39m.\u001b[39;49mwrite_csv_rows(\n\u001b[0;32m    314\u001b[0m     data,\n\u001b[0;32m    315\u001b[0m     ix,\n\u001b[0;32m    316\u001b[0m     \u001b[39mself\u001b[39;49m\u001b[39m.\u001b[39;49mnlevels,\n\u001b[0;32m    317\u001b[0m     \u001b[39mself\u001b[39;49m\u001b[39m.\u001b[39;49mcols,\n\u001b[0;32m    318\u001b[0m     \u001b[39mself\u001b[39;49m\u001b[39m.\u001b[39;49mwriter,\n\u001b[0;32m    319\u001b[0m )\n",
      "File \u001b[1;32mc:\\Users\\simeon wong\\AppData\\Local\\miniconda3\\envs\\p311\\Lib\\site-packages\\pandas\\_libs\\writers.pyx:72\u001b[0m, in \u001b[0;36mpandas._libs.writers.write_csv_rows\u001b[1;34m()\u001b[0m\n",
      "\u001b[1;31mUnicodeEncodeError\u001b[0m: 'ascii' codec can't encode character '\\u1e41' in position 13: ordinal not in range(128)"
     ]
    }
   ],
   "source": [
    "lang_df['indigenous_name'] = ''\n",
    "for row_num, row_data in lang_df.iterrows():\n",
    "    # get the indigenous name\n",
    "    indigenous_name = g.value(row_data['language_subject'], BOC.hasIndigenousName)\n",
    "    \n",
    "    # add the indigenous name to the dataframe\n",
    "    lang_df.loc[row_num, 'indigenous_name'] = indigenous_name\n",
    "    \n",
    "lang_df.head()\n",
    "\n",
    "# why encoding matters: let's try saving to CSV with the older ascii encoding\n",
    "lang_df[['two_letter_label', 'language_label', 'indigenous_name']].to_csv('language_labels.csv', index=False)  # by default, encoding is UTF-8\n",
    "lang_df[['two_letter_label', 'language_label', 'indigenous_name']].to_csv('language_labels_ascii.csv', index=False, encoding='ascii')\n",
    "\n",
    "# demonstrate Excel encoding issues"
   ]
  },
  {
   "cell_type": "markdown",
   "metadata": {},
   "source": [
    "<hr />\n",
    "\n",
    "## Advanced adventures in RDF: SPARQL"
   ]
  },
  {
   "cell_type": "code",
   "execution_count": 41,
   "metadata": {},
   "outputs": [
    {
     "data": {
      "text/html": [
       "<div>\n",
       "<style scoped>\n",
       "    .dataframe tbody tr th:only-of-type {\n",
       "        vertical-align: middle;\n",
       "    }\n",
       "\n",
       "    .dataframe tbody tr th {\n",
       "        vertical-align: top;\n",
       "    }\n",
       "\n",
       "    .dataframe thead th {\n",
       "        text-align: right;\n",
       "    }\n",
       "</style>\n",
       "<table border=\"1\" class=\"dataframe\">\n",
       "  <thead>\n",
       "    <tr style=\"text-align: right;\">\n",
       "      <th></th>\n",
       "      <th>two_letter_subject</th>\n",
       "      <th>two_letter_label</th>\n",
       "      <th>language_subject</th>\n",
       "      <th>language_label</th>\n",
       "      <th>three_letter_label</th>\n",
       "      <th>indigenous_name</th>\n",
       "    </tr>\n",
       "  </thead>\n",
       "  <tbody>\n",
       "    <tr>\n",
       "      <th>0</th>\n",
       "      <td>https://www.bankofcanada.ca/id/0156c97d-07d6-4...</td>\n",
       "      <td>th</td>\n",
       "      <td>https://www.bankofcanada.ca/id/057bd7b0-3b29-4...</td>\n",
       "      <td>Thai</td>\n",
       "      <td>tha</td>\n",
       "      <td>thai</td>\n",
       "    </tr>\n",
       "    <tr>\n",
       "      <th>1</th>\n",
       "      <td>https://www.bankofcanada.ca/id/03375036-4837-4...</td>\n",
       "      <td>ik</td>\n",
       "      <td>https://www.bankofcanada.ca/id/f78dd330-b7d4-4...</td>\n",
       "      <td>Inupiaq</td>\n",
       "      <td>ipk</td>\n",
       "      <td>inupiaq</td>\n",
       "    </tr>\n",
       "    <tr>\n",
       "      <th>2</th>\n",
       "      <td>https://www.bankofcanada.ca/id/04a982f6-48e2-4...</td>\n",
       "      <td>si</td>\n",
       "      <td>https://www.bankofcanada.ca/id/d0ff5be7-108a-4...</td>\n",
       "      <td>Sinhala</td>\n",
       "      <td>sin</td>\n",
       "      <td>siṁhala</td>\n",
       "    </tr>\n",
       "    <tr>\n",
       "      <th>3</th>\n",
       "      <td>https://www.bankofcanada.ca/id/051ef2ca-5641-4...</td>\n",
       "      <td>ch</td>\n",
       "      <td>https://www.bankofcanada.ca/id/09a4ebfe-8300-4...</td>\n",
       "      <td>Chamorro</td>\n",
       "      <td>cha</td>\n",
       "      <td>None</td>\n",
       "    </tr>\n",
       "    <tr>\n",
       "      <th>4</th>\n",
       "      <td>https://www.bankofcanada.ca/id/05b1dd74-98b1-4...</td>\n",
       "      <td>li</td>\n",
       "      <td>https://www.bankofcanada.ca/id/74a6898d-b0be-4...</td>\n",
       "      <td>Limburgan</td>\n",
       "      <td>lim</td>\n",
       "      <td>None</td>\n",
       "    </tr>\n",
       "  </tbody>\n",
       "</table>\n",
       "</div>"
      ],
      "text/plain": [
       "                                  two_letter_subject two_letter_label  \\\n",
       "0  https://www.bankofcanada.ca/id/0156c97d-07d6-4...               th   \n",
       "1  https://www.bankofcanada.ca/id/03375036-4837-4...               ik   \n",
       "2  https://www.bankofcanada.ca/id/04a982f6-48e2-4...               si   \n",
       "3  https://www.bankofcanada.ca/id/051ef2ca-5641-4...               ch   \n",
       "4  https://www.bankofcanada.ca/id/05b1dd74-98b1-4...               li   \n",
       "\n",
       "                                    language_subject language_label  \\\n",
       "0  https://www.bankofcanada.ca/id/057bd7b0-3b29-4...           Thai   \n",
       "1  https://www.bankofcanada.ca/id/f78dd330-b7d4-4...        Inupiaq   \n",
       "2  https://www.bankofcanada.ca/id/d0ff5be7-108a-4...        Sinhala   \n",
       "3  https://www.bankofcanada.ca/id/09a4ebfe-8300-4...       Chamorro   \n",
       "4  https://www.bankofcanada.ca/id/74a6898d-b0be-4...      Limburgan   \n",
       "\n",
       "  three_letter_label indigenous_name  \n",
       "0                tha            thai  \n",
       "1                ipk         inupiaq  \n",
       "2                sin         siṁhala  \n",
       "3                cha            None  \n",
       "4                lim            None  "
      ]
     },
     "execution_count": 41,
     "metadata": {},
     "output_type": "execute_result"
    }
   ],
   "source": [
    "# find the associated three letter code for each language\n",
    "lang_df['three_letter_label'] = ''\n",
    "\n",
    "q = '''\n",
    "        SELECT ?label\n",
    "        WHERE {\n",
    "            ?subject boc:denotes ?id .\n",
    "            ?subject rdf:type boc:Alpha3CodeLanguage .\n",
    "            ?subject rdfs:label ?label .\n",
    "        }\n",
    "'''\n",
    "\n",
    "for row_num, row_data in lang_df.iterrows():\n",
    "    query_result = g.query(q, initBindings={'id': row_data['language_subject']})\n",
    "    query_result = list(query_result)\n",
    "    \n",
    "    if len(query_result) > 0:\n",
    "        label = query_result[0].label\n",
    "    else:\n",
    "        label = ''\n",
    "        \n",
    "    lang_df.loc[row_num, 'three_letter_label'] = label\n",
    "        \n",
    "lang_df.head()"
   ]
  },
  {
   "cell_type": "markdown",
   "metadata": {},
   "source": [
    "## CSV to RDF"
   ]
  },
  {
   "cell_type": "code",
   "execution_count": 44,
   "metadata": {},
   "outputs": [
    {
     "data": {
      "text/html": [
       "<div>\n",
       "<style scoped>\n",
       "    .dataframe tbody tr th:only-of-type {\n",
       "        vertical-align: middle;\n",
       "    }\n",
       "\n",
       "    .dataframe tbody tr th {\n",
       "        vertical-align: top;\n",
       "    }\n",
       "\n",
       "    .dataframe thead th {\n",
       "        text-align: right;\n",
       "    }\n",
       "</style>\n",
       "<table border=\"1\" class=\"dataframe\">\n",
       "  <thead>\n",
       "    <tr style=\"text-align: right;\">\n",
       "      <th></th>\n",
       "      <th>Entity</th>\n",
       "      <th>Currency</th>\n",
       "      <th>AlphabeticCode</th>\n",
       "      <th>NumericCode</th>\n",
       "      <th>MinorUnit</th>\n",
       "      <th>WithdrawalDate</th>\n",
       "    </tr>\n",
       "  </thead>\n",
       "  <tbody>\n",
       "    <tr>\n",
       "      <th>0</th>\n",
       "      <td>AFGHANISTAN</td>\n",
       "      <td>Afghani</td>\n",
       "      <td>AFN</td>\n",
       "      <td>971.0</td>\n",
       "      <td>2</td>\n",
       "      <td>NaN</td>\n",
       "    </tr>\n",
       "    <tr>\n",
       "      <th>1</th>\n",
       "      <td>ÅLAND ISLANDS</td>\n",
       "      <td>Euro</td>\n",
       "      <td>EUR</td>\n",
       "      <td>978.0</td>\n",
       "      <td>2</td>\n",
       "      <td>NaN</td>\n",
       "    </tr>\n",
       "    <tr>\n",
       "      <th>2</th>\n",
       "      <td>ALBANIA</td>\n",
       "      <td>Lek</td>\n",
       "      <td>ALL</td>\n",
       "      <td>8.0</td>\n",
       "      <td>2</td>\n",
       "      <td>NaN</td>\n",
       "    </tr>\n",
       "    <tr>\n",
       "      <th>3</th>\n",
       "      <td>ALGERIA</td>\n",
       "      <td>Algerian Dinar</td>\n",
       "      <td>DZD</td>\n",
       "      <td>12.0</td>\n",
       "      <td>2</td>\n",
       "      <td>NaN</td>\n",
       "    </tr>\n",
       "    <tr>\n",
       "      <th>4</th>\n",
       "      <td>AMERICAN SAMOA</td>\n",
       "      <td>US Dollar</td>\n",
       "      <td>USD</td>\n",
       "      <td>840.0</td>\n",
       "      <td>2</td>\n",
       "      <td>NaN</td>\n",
       "    </tr>\n",
       "  </tbody>\n",
       "</table>\n",
       "</div>"
      ],
      "text/plain": [
       "           Entity        Currency AlphabeticCode  NumericCode MinorUnit  \\\n",
       "0     AFGHANISTAN         Afghani            AFN        971.0         2   \n",
       "1   ÅLAND ISLANDS            Euro            EUR        978.0         2   \n",
       "2         ALBANIA             Lek            ALL          8.0         2   \n",
       "3         ALGERIA  Algerian Dinar            DZD         12.0         2   \n",
       "4  AMERICAN SAMOA       US Dollar            USD        840.0         2   \n",
       "\n",
       "  WithdrawalDate  \n",
       "0            NaN  \n",
       "1            NaN  \n",
       "2            NaN  \n",
       "3            NaN  \n",
       "4            NaN  "
      ]
     },
     "execution_count": 44,
     "metadata": {},
     "output_type": "execute_result"
    }
   ],
   "source": [
    "# import currency codes table from GitHub\n",
    "currency_codes = pd.read_csv('https://raw.githubusercontent.com/datasets/currency-codes/master/data/codes-all.csv')\n",
    "currency_codes.head()"
   ]
  },
  {
   "cell_type": "code",
   "execution_count": 49,
   "metadata": {},
   "outputs": [
    {
     "name": "stdout",
     "output_type": "stream",
     "text": [
      "Currency codes graph with countries added:\n",
      "https://www.bankofcanada.ca/model#HOLY_SEE__THE_ http://www.w3.org/1999/02/22-rdf-syntax-ns#type https://www.bankofcanada.ca/model#Country\n",
      "https://www.bankofcanada.ca/model#KOREA__THE_REPUBLIC_OF_ http://www.w3.org/2000/01/rdf-schema#label KOREA__THE_REPUBLIC_OF_\n",
      "https://www.bankofcanada.ca/model#MICRONESIA__FEDERATED_STATES_OF_ http://www.w3.org/2000/01/rdf-schema#label MICRONESIA__FEDERATED_STATES_OF_\n",
      "https://www.bankofcanada.ca/model#GRENADA http://www.w3.org/1999/02/22-rdf-syntax-ns#type https://www.bankofcanada.ca/model#Country\n",
      "https://www.bankofcanada.ca/model#CHILE http://www.w3.org/2000/01/rdf-schema#label CHILE\n",
      "https://www.bankofcanada.ca/model#SERBIA_AND_MONTENEGRO http://www.w3.org/2000/01/rdf-schema#label SERBIA_AND_MONTENEGRO\n",
      "https://www.bankofcanada.ca/model#SOUTHERN_RHODESIA http://www.w3.org/1999/02/22-rdf-syntax-ns#type https://www.bankofcanada.ca/model#Country\n",
      "https://www.bankofcanada.ca/model#SOLOMON_ISLANDS http://www.w3.org/1999/02/22-rdf-syntax-ns#type https://www.bankofcanada.ca/model#Country\n",
      "https://www.bankofcanada.ca/model#CZECHOSLOVAKIA http://www.w3.org/1999/02/22-rdf-syntax-ns#type https://www.bankofcanada.ca/model#Country\n",
      "https://www.bankofcanada.ca/model#DOMINICAN_REPUBLIC__THE_ http://www.w3.org/2000/01/rdf-schema#label DOMINICAN_REPUBLIC__THE_\n",
      "Currency codes graph with currencies added:\n",
      "https://www.bankofcanada.ca/model#IEP http://www.w3.org/2000/01/rdf-schema#label Irish Pound\n",
      "https://www.bankofcanada.ca/model#POLAND http://www.w3.org/1999/02/22-rdf-syntax-ns#type https://www.bankofcanada.ca/model#Country\n",
      "https://www.bankofcanada.ca/model#MARSHALL_ISLANDS__THE_ http://www.w3.org/2000/01/rdf-schema#label MARSHALL_ISLANDS__THE_\n",
      "https://www.bankofcanada.ca/model#BWP http://www.w3.org/2000/01/rdf-schema#label Pula\n",
      "https://www.bankofcanada.ca/model#SDP http://www.w3.org/1999/02/22-rdf-syntax-ns#type https://www.bankofcanada.ca/model#Currency\n",
      "https://www.bankofcanada.ca/model#AMERICAN_SAMOA http://www.w3.org/2000/01/rdf-schema#label AMERICAN_SAMOA\n",
      "https://www.bankofcanada.ca/model#MZN http://www.w3.org/1999/02/22-rdf-syntax-ns#type https://www.bankofcanada.ca/model#Currency\n",
      "https://www.bankofcanada.ca/model#LUF http://www.w3.org/1999/02/22-rdf-syntax-ns#type https://www.bankofcanada.ca/model#Currency\n",
      "https://www.bankofcanada.ca/model#AUSTRALIA http://www.w3.org/2000/01/rdf-schema#label AUSTRALIA\n",
      "https://www.bankofcanada.ca/model#LVR http://www.w3.org/2000/01/rdf-schema#label Latvian Ruble\n"
     ]
    },
    {
     "data": {
      "text/plain": [
       "<Graph identifier=Naa32cc7e89c2485b84f119da57dc34c0 (<class 'rdflib.graph.Graph'>)>"
      ]
     },
     "execution_count": 49,
     "metadata": {},
     "output_type": "execute_result"
    }
   ],
   "source": [
    "cg = rdflib.Graph()\n",
    "cg.bind(\"boc\", BOC)   # this tells rdflib about our shorthand for the BOC namespace\n",
    "\n",
    "# get unique countries\n",
    "countries = currency_codes['Entity'].unique()\n",
    "\n",
    "# replace non-letter characters with underscores\n",
    "import re\n",
    "for index in range(len(countries)):\n",
    "    countries[index] = re.sub('[^a-zA-Z]', '_', countries[index])\n",
    "\n",
    "\n",
    "for country in countries:\n",
    "    # create a new country subject\n",
    "    country_subject = rdflib.URIRef(BOC[country.replace(' ', '_')])\n",
    "\n",
    "    # add the country subject to the graph\n",
    "    cg.add((country_subject, RDF.type, BOC.Country))\n",
    "\n",
    "    # add the country label to the graph\n",
    "    cg.add((country_subject, RDFS.label, rdflib.Literal(country)))\n",
    "\n",
    "\n",
    "# print the first few triples\n",
    "print('Currency codes graph with countries added:')\n",
    "for s, p, o in list(cg)[:10]:\n",
    "    print(s, p, o)\n",
    "\n",
    "\n",
    "# create currencies and add them to the graph\n",
    "for row_num,row_data in currency_codes.iterrows():\n",
    "    # create currency subject\n",
    "    currency_subject = rdflib.URIRef(BOC[row_data['AlphabeticCode']])\n",
    "\n",
    "    # add the currency subject to the graph\n",
    "    cg.add((currency_subject, RDF.type, BOC.Currency))\n",
    "\n",
    "    # add currency label to the graph\n",
    "    cg.add((currency_subject, RDFS.label, rdflib.Literal(row_data['Currency'])))\n",
    "\n",
    "# print the last few triples\n",
    "print('Currency codes graph with currencies added:')\n",
    "for s, p, o in list(cg)[-10:]:\n",
    "    print(s, p, o)\n",
    "\n",
    "# output to RDF file\n",
    "cg.serialize('currency_graph.rdf', format='xml')\n"
   ]
  }
 ],
 "metadata": {
  "kernelspec": {
   "display_name": "Python 3",
   "language": "python",
   "name": "python3"
  },
  "language_info": {
   "codemirror_mode": {
    "name": "ipython",
    "version": 3
   },
   "file_extension": ".py",
   "mimetype": "text/x-python",
   "name": "python",
   "nbconvert_exporter": "python",
   "pygments_lexer": "ipython3",
   "version": "3.11.3"
  },
  "orig_nbformat": 4
 },
 "nbformat": 4,
 "nbformat_minor": 2
}
