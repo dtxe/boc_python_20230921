{
 "cells": [
  {
   "cell_type": "markdown",
   "metadata": {},
   "source": [
    "## Introduction\n",
    "**Icebreaker**: What is one thing that you wish was automated or made easier in your daily work?"
   ]
  },
  {
   "cell_type": "markdown",
   "metadata": {},
   "source": [
    "## Why Python?\n",
    "* Everything is data now.\n",
    "* Doing repetitive things quickly and accurately is what computers do\n",
    "* As librarians / information specialists / analysts, we do the high value work of creativity & design & analysis. Leave computing to the computers."
   ]
  },
  {
   "cell_type": "markdown",
   "metadata": {},
   "source": [
    "## Opening JupyterLab\n",
    "1. Open the start menu, search \"Anaconda Navigator\", then launch the Anaconda Navigator App\n",
    "    * This may take some time\n",
    "1. Launch JupyterLab\n",
    "1. After a lot lf loading, JupyterLab opens a blank notebook!\n",
    "\n",
    "<img src=\"image.png\" alt=\"Open the start menu, search 'Anaconda Navigator', then launch the Anaconda Navigator App\" width=\"700\"/>\n",
    "<img src=\"image-1.png\" alt=\"Launch JupyterLab\" width=\"700\"/>\n",
    "<img src=\"image-2.png\" alt=\"Empty notebook view after JupyterLab opens\" width=\"700\"/>"
   ]
  },
  {
   "cell_type": "markdown",
   "metadata": {},
   "source": [
    "<hr /> \n",
    "\n",
    "## Variables & Assignment\n",
    "* **Variables** are names for values.\n",
    "* Variable names\n",
    "    * can **only** contain letters, digits, and underscore _ (typically used to separate words in long variable names)\n",
    "    * cannot start with a digit\n",
    "    * are **case sensitive** (age, Age and AGE are three different variables)\n",
    "    * The name should also be meaningful so you or another programmer know what it is\n",
    "* In Python the `=` symbol assigns the value on the right to the name on the left.\n",
    "* The variable is created when a value is assigned to it.\n",
    "* Here, Python assigns an `age` to a variable age and a name in quotes to a variable `first_name`."
   ]
  },
  {
   "cell_type": "code",
   "execution_count": 1,
   "metadata": {},
   "outputs": [
    {
     "name": "stdout",
     "output_type": "stream",
     "text": [
      "Ahmed is 42 years old\n"
     ]
    }
   ],
   "source": [
    "age = 42\n",
    "first_name = 'Ahmed'\n",
    "\n",
    "print(first_name, 'is', age, 'years old')"
   ]
  },
  {
   "cell_type": "markdown",
   "metadata": {},
   "source": [
    "### Variables must be created before they are used.\n",
    "If a variable doesn’t exist yet, or if the name has been mis-spelled, Python reports an error."
   ]
  },
  {
   "cell_type": "code",
   "execution_count": 2,
   "metadata": {},
   "outputs": [
    {
     "ename": "NameError",
     "evalue": "name 'last_name' is not defined",
     "output_type": "error",
     "traceback": [
      "\u001b[1;31m---------------------------------------------------------------------------\u001b[0m",
      "\u001b[1;31mNameError\u001b[0m                                 Traceback (most recent call last)",
      "\u001b[1;32mc:\\Users\\simeon wong\\Downloads\\boc_lesson.ipynb Cell 7\u001b[0m line \u001b[0;36m1\n\u001b[1;32m----> <a href='vscode-notebook-cell:/c%3A/Users/simeon%20wong/Downloads/boc_lesson.ipynb#W6sZmlsZQ%3D%3D?line=0'>1</a>\u001b[0m \u001b[39mprint\u001b[39m(last_name)\n",
      "\u001b[1;31mNameError\u001b[0m: name 'last_name' is not defined"
     ]
    }
   ],
   "source": [
    "print(last_name)"
   ]
  },
  {
   "cell_type": "markdown",
   "metadata": {},
   "source": [
    "### Use meaningful variable names\n",
    "Which is a better variable name, m, min, or minutes? Why?  \n",
    "*Hint*: think about which code you would rather inherit from someone:\n",
    "\n",
    "```\n",
    "ts = m * 60 + s\n",
    "tot_sec = min * 60 + sec\n",
    "total_seconds = minutes * 60 + seconds\n",
    "```"
   ]
  },
  {
   "cell_type": "markdown",
   "metadata": {},
   "source": [
    "<hr />\n",
    "\n",
    "## Data types\n",
    "### Every value has a type\n",
    "* Every value in a program has a specific type.\n",
    "* Integer (`int`): represents positive or negative whole numbers like 3 or -512.\n",
    "* Floating point number (`float`): represents real numbers like 3.14159 or -2.5.\n",
    "* Character string (usually called “string”, `str`): text.\n",
    "    * Written in either single quotes or double quotes (as long as they match).\n",
    "    * The quote marks aren’t printed when the string is displayed.\n",
    "    \n",
    "### Use the built-in function type to find the type of a value.\n",
    "* Use the built-in function type to find out what type a value has.\n",
    "* Works on variables as well.\n",
    "    * But remember: the value has the type — the variable is just a label."
   ]
  },
  {
   "cell_type": "code",
   "execution_count": 5,
   "metadata": {},
   "outputs": [
    {
     "name": "stdout",
     "output_type": "stream",
     "text": [
      "Type of the integer 52: \n",
      "<class 'int'>\n",
      "Type of the string \"average\":\n",
      "<class 'str'>\n"
     ]
    }
   ],
   "source": [
    "print('Type of the integer 52: ')\n",
    "print(type(52))\n",
    "\n",
    "print('Type of the string \"average\":')\n",
    "fitness = 'average'\n",
    "print(type(fitness))"
   ]
  },
  {
   "cell_type": "markdown",
   "metadata": {},
   "source": [
    "### Variables only change value when something is assigned to them.\n",
    "* If we make one cell in a spreadsheet depend on another, and update the latter, the former updates automatically.\n",
    "* This does **not** happen in programming languages."
   ]
  },
  {
   "cell_type": "code",
   "execution_count": 6,
   "metadata": {},
   "outputs": [
    {
     "name": "stdout",
     "output_type": "stream",
     "text": [
      "first is 2 and second is 5\n"
     ]
    }
   ],
   "source": [
    "variable_one = 1\n",
    "variable_two = 5 * variable_one\n",
    "variable_one = 2\n",
    "print('first is', variable_one, 'and second is', variable_two)"
   ]
  },
  {
   "cell_type": "markdown",
   "metadata": {},
   "source": [
    "* The computer reads the value of `variable_one` when doing the multiplication, creates a new value, and assigns it to `variable_two`.\n",
    "* Afterwards, the value of `variable_two` is set to the new value and not dependent on `variable_one` so its value does not automatically change when `variable_one` changes."
   ]
  },
  {
   "cell_type": "markdown",
   "metadata": {},
   "source": [
    "<hr />\n",
    "\n",
    "## Comments\n",
    "Use comments to add documentation to programs.\n"
   ]
  },
  {
   "cell_type": "code",
   "execution_count": 7,
   "metadata": {},
   "outputs": [
    {
     "name": "stdout",
     "output_type": "stream",
     "text": [
      "0.5\n"
     ]
    }
   ],
   "source": [
    "# This sentence isn't executed by Python.\n",
    "adjustment = 0.5  # Neither is this - anything after '#' is ignored.\n",
    "\n",
    "print(adjustment)\n"
   ]
  },
  {
   "cell_type": "markdown",
   "metadata": {},
   "source": [
    "#### Exercise:\n",
    "Why doesn't this code work?"
   ]
  },
  {
   "cell_type": "code",
   "execution_count": 8,
   "metadata": {},
   "outputs": [
    {
     "ename": "SyntaxError",
     "evalue": "invalid syntax (1611901010.py, line 1)",
     "output_type": "error",
     "traceback": [
      "\u001b[1;36m  Cell \u001b[1;32mIn[8], line 1\u001b[1;36m\u001b[0m\n\u001b[1;33m    Number of documents in the collection\u001b[0m\n\u001b[1;37m           ^\u001b[0m\n\u001b[1;31mSyntaxError\u001b[0m\u001b[1;31m:\u001b[0m invalid syntax\n"
     ]
    }
   ],
   "source": [
    "Number of documents in the collection\n",
    "num_docs = 10\n",
    "\n",
    "print(num_docs)"
   ]
  },
  {
   "cell_type": "markdown",
   "metadata": {},
   "source": [
    "<hr />\n",
    "\n",
    "## Functions\n",
    "* We have seen some functions already — now let’s take a closer look.\n",
    "* An *argument* is a value passed into a function.\n",
    "    * `print` takes zero or more.\n",
    "        * print with no arguments prints a blank line.\n",
    "    * `type` takes exactly one argument\n",
    "* Must always use parentheses, even if they’re empty, so that Python knows a function is being called."
   ]
  },
  {
   "cell_type": "code",
   "execution_count": 9,
   "metadata": {},
   "outputs": [
    {
     "name": "stdout",
     "output_type": "stream",
     "text": [
      "before\n",
      "\n",
      "after\n"
     ]
    }
   ],
   "source": [
    "print('before')\n",
    "print()\n",
    "print('after')"
   ]
  },
  {
   "cell_type": "markdown",
   "metadata": {},
   "source": [
    "<hr />\n",
    "\n",
    "## Libraries\n",
    "### Most of the power of a programming language is in its libraries.\n",
    "* A library is a collection of files (called modules) that contains functions for use by other programs.\n",
    "    * May also contain data values (e.g., numerical constants) and other things.\n",
    "* The Python standard library is an extensive suite of modules that comes with Python itself.\n",
    "* Many additional libraries are available from PyPI (the Python Package Index) using `pip`\n",
    "\n",
    "### Installing packages using pip\n",
    "1. Launch the Terminal\n",
    "1. Use the `pip` command to find and install the package\n",
    "\n",
    "**Syntax:** `pip install [packagename]`\n",
    "\n",
    "<img src=\"image-3.png\" alt=\"Launch terminal\" width=\"700\"/>\n",
    "<img src=\"image-4.png\" alt=\"Use the pip command\" width=\"700\"/>\n",
    "\n",
    "### Installing the rdflib and pandas libraries\n",
    "* Use `pip` to install `rdflib` and `pandas`"
   ]
  },
  {
   "cell_type": "markdown",
   "metadata": {},
   "source": [
    "<hr />\n",
    "\n",
    "## Errors and getting help\n",
    "### The Jupyter Notebook has two ways to get help.\n",
    "**Option 1**: Place the cursor near where the function is invoked in a cell (i.e., the function name or its parameters),\n",
    "* Hold down Shift, and press Tab.\n",
    "* Do this several times to expand the information returned.\n",
    "\n",
    "**Option 2**: Type the function name in a cell with a question mark after it. Then run the cell.\n",
    "\n",
    "### Library functions have online documentation\n",
    "https://rdflib.readthedocs.io/en/stable/intro_to_parsing.html\n",
    "\n",
    "<img src=\"image-5.png\" alt=\"Loading and saving RDF documentation\" width=\"700\"/>\n",
    "\n",
    "### A program must import a library module before using it.\n",
    "* Use `import` to load a library module into a program’s memory.\n",
    "* Then refer to things from the module as `module_name.thing_name`.\n",
    "    * Python uses . to mean “part of”."
   ]
  },
  {
   "cell_type": "code",
   "execution_count": null,
   "metadata": {},
   "outputs": [],
   "source": [
    "import pandas as pd\n",
    "help(pd)"
   ]
  },
  {
   "cell_type": "markdown",
   "metadata": {},
   "source": [
    "<hr />\n",
    "\n",
    "## For Loops\n",
    "### A for loop executes commands once for each value in a collection\n",
    "* A for loop tells Python to execute some statements once for each value in a list, a character string, or some other collection.\n",
    "* “for each thing in this group, do these operations”\n",
    "* **This is the real power of coding**"
   ]
  },
  {
   "cell_type": "code",
   "execution_count": 11,
   "metadata": {},
   "outputs": [
    {
     "name": "stdout",
     "output_type": "stream",
     "text": [
      "Manually:\n",
      "2\n",
      "3\n",
      "5\n",
      "Using a loop:\n",
      "2\n",
      "3\n",
      "5\n"
     ]
    }
   ],
   "source": [
    "print('Manually:')\n",
    "print(2)\n",
    "print(3)\n",
    "print(5)\n",
    "\n",
    "print('Using a loop:')\n",
    "for number in [2, 3, 5]:\n",
    "    print(number)"
   ]
  },
  {
   "cell_type": "markdown",
   "metadata": {},
   "source": [
    "### Loop variables can be called anything.\n",
    "* As with all variables, loop variables are:\n",
    "    * Created on demand.\n",
    "    * Python doesn't care what you name it: their names can be anything at all\n",
    "    * You should call it something meaningful\n",
    "    \n",
    "### The body of a loop can contain many statements.\n",
    "* Try to keep loops short\n",
    "* It is hard for human beings to keep larger chunks of code in mind."
   ]
  },
  {
   "cell_type": "code",
   "execution_count": 12,
   "metadata": {},
   "outputs": [
    {
     "name": "stdout",
     "output_type": "stream",
     "text": [
      "2 4 8\n",
      "3 9 27\n",
      "5 25 125\n"
     ]
    }
   ],
   "source": [
    "primes = [2, 3, 5]\n",
    "for this_prime_number in primes:\n",
    "    squared = this_prime_number**2\n",
    "    cubed = this_prime_number**3\n",
    "    print(this_prime_number, squared, cubed)"
   ]
  },
  {
   "cell_type": "markdown",
   "metadata": {},
   "source": [
    "### Use range to iterate over a sequence of numbers.\n",
    "* The built-in function range produces a sequence of numbers.\n",
    "* range(N) is the numbers 0..N-1\n",
    "    * Exactly the legal indices of a list or character string of length N"
   ]
  },
  {
   "cell_type": "code",
   "execution_count": 14,
   "metadata": {},
   "outputs": [
    {
     "name": "stdout",
     "output_type": "stream",
     "text": [
      "0\n",
      "1\n",
      "2\n",
      "3\n",
      "4\n"
     ]
    }
   ],
   "source": [
    "for number in range(0, 5):\n",
    "    print(number)"
   ]
  },
  {
   "cell_type": "markdown",
   "metadata": {},
   "source": [
    "<hr />\n",
    "\n",
    "## Lists (collection of items / \"arrays\")\n",
    "### A list stores many values in a single structure.\n",
    "* Doing calculations with a hundred variables (eg. `value1`, `value2`, `value3`, ...) would be at least as slow as doing them by hand.\n",
    "* Use a list to store many values together.\n",
    "* Contained within square brackets `[...]`.\n",
    "* Values separated by commas `,`\n",
    "* Use `len` to find out how many values are in a list."
   ]
  },
  {
   "cell_type": "code",
   "execution_count": 17,
   "metadata": {},
   "outputs": [
    {
     "name": "stdout",
     "output_type": "stream",
     "text": [
      "values: [1.034, 2.275, 3.277, 4.275, 5.276]\n",
      "length of `values`: 5\n"
     ]
    }
   ],
   "source": [
    "values = [1.034, 2.275, 3.277, 4.275, 5.276]\n",
    "print('values:', values)\n",
    "print('length of `values`:', len(values))"
   ]
  },
  {
   "cell_type": "markdown",
   "metadata": {},
   "source": [
    "### Use an item’s index to fetch it from a list."
   ]
  },
  {
   "cell_type": "code",
   "execution_count": 18,
   "metadata": {},
   "outputs": [
    {
     "name": "stdout",
     "output_type": "stream",
     "text": [
      "zeroth item of values: 1.034\n",
      "fourth item of values: 5.276\n"
     ]
    }
   ],
   "source": [
    "print('zeroth item of values:', values[0])\n",
    "print('fourth item of values:', values[4])"
   ]
  },
  {
   "cell_type": "markdown",
   "metadata": {},
   "source": [
    "### Lists’ values can be replaced by assigning to them.\n",
    "* Use an index expression on the left of assignment to replace a value."
   ]
  },
  {
   "cell_type": "code",
   "execution_count": 19,
   "metadata": {},
   "outputs": [
    {
     "name": "stdout",
     "output_type": "stream",
     "text": [
      "`values` is now: [0.265, 2.275, 3.277, 4.275, 5.276]\n"
     ]
    }
   ],
   "source": [
    "values[0] = 0.265\n",
    "print('`values` is now:', values)"
   ]
  },
  {
   "cell_type": "markdown",
   "metadata": {},
   "source": [
    "### Exercise 1:\n",
    "* Combine a for-loop, `range`, and list indexing to print the index and associated value from the list `values`:\n",
    "\n",
    "**Output:**\n",
    "```\n",
    "0 0.034\n",
    "1 2.275\n",
    "2 3.277\n",
    "3 4.275\n",
    "4 5.276\n",
    "```\n",
    "\n",
    "### Appending items to a list lengthens it.\n",
    "Use `list_name.append` to add items to the end of a list."
   ]
  },
  {
   "cell_type": "code",
   "execution_count": 22,
   "metadata": {},
   "outputs": [
    {
     "name": "stdout",
     "output_type": "stream",
     "text": [
      "primes is initially: [2, 3, 5]\n",
      "primes has become: [2, 3, 5, 7]\n"
     ]
    }
   ],
   "source": [
    "primes = [2, 3, 5]\n",
    "print('primes is initially:', primes)\n",
    "\n",
    "primes.append(7)\n",
    "print('primes has become:', primes)"
   ]
  },
  {
   "cell_type": "markdown",
   "metadata": {},
   "source": [
    "### Exercise 2:\n",
    "* Using a for-loop, and the list `values`, create a new list called `values_plus_5` that contains all the items in `values`, with `5` added to each number\n",
    "\n",
    "After running your code, values_plus_5 should look like this:\n",
    "```\n",
    "print(values_plus_5)\n",
    "[5.265, 7.275, 8.277, 9.275, 10.276]\n",
    "```"
   ]
  },
  {
   "cell_type": "markdown",
   "metadata": {},
   "source": [
    "<hr />\n",
    "\n",
    "## Reading Tabular Data into DataFrames\n",
    "* Pandas is a widely-used Python library for statistics, particularly on tabular data.\n",
    "* Load Pandas with `import pandas as pd`. The alias `pd` is commonly used to refer to the Pandas library in code.\n",
    "* Read a Comma Separated Values (CSV) data file with `pd.read_csv`.\n",
    "    * Argument is the name of the file to be read.\n",
    "    * Returns a dataframe that you can assign to a variable"
   ]
  },
  {
   "cell_type": "code",
   "execution_count": 28,
   "metadata": {},
   "outputs": [
    {
     "name": "stdout",
     "output_type": "stream",
     "text": [
      "          date  length_hours  num_attendees delivered_by\n",
      "0   2016-01-08           1.5             20           FG\n",
      "1   2016-01-13           1.0             21           JM\n",
      "2   2016-01-22           1.0             35           JM\n",
      "3   2016-02-02           1.5             36           JM\n",
      "4   2016-02-03           1.5             22           JM\n",
      "5   2016-02-03           1.0             30           JM\n",
      "6   2016-02-20           1.5             36           FG\n",
      "7   2016-02-28           1.5             28           JM\n",
      "8   2016-03-19           1.5             33           FG\n",
      "9   2016-03-19           1.0             39           JM\n",
      "10  2016-04-04           1.5             21           JM\n",
      "11  2016-05-05           1.5             25           JM\n",
      "12  2016-05-18           1.0             22           JM\n",
      "13  2016-05-19           1.5             20           FG\n",
      "14  2016-05-21           1.5             21           JM\n",
      "15  2016-06-14           1.5             37           JM\n",
      "16  2016-06-18           1.5             25           JM\n",
      "17  2016-07-04           1.5             39           JM\n",
      "18  2016-07-06           1.5             39           JM\n",
      "19  2016-07-10           1.5             34           JM\n",
      "20  2016-07-13           1.5             23           FG\n",
      "21  2016-07-17           1.5             30           JM\n",
      "22  2016-08-03           1.5             28           JM\n",
      "23  2016-08-20           1.5             32           JM\n",
      "24  2016-08-26           1.5             25           JM\n",
      "25  2016-08-28           1.5             33           FG\n",
      "26  2016-10-01           1.5             38           JM\n",
      "27  2016-10-21           1.5             34           JM\n",
      "28  2016-11-09           1.5             32           JM\n",
      "29  2016-11-15           1.5             35           JM\n",
      "30  2016-11-15           1.5             27           JM\n",
      "31  2016-12-02           1.5             35           FG\n",
      "32  2016-12-07           1.5             23           JM\n",
      "33  2016-12-11           1.5             38           FG\n",
      "34  2016-12-19           1.5             20           FG\n"
     ]
    }
   ],
   "source": [
    "import pandas as pd\n",
    "\n",
    "workshop_2016 = pd.read_csv(\n",
    "    'https://raw.githubusercontent.com/dtxe/boc_python_20230921/main/tidy_data_2016_openaccess.csv'\n",
    ")\n",
    "print(workshop_2016)"
   ]
  },
  {
   "cell_type": "markdown",
   "metadata": {},
   "source": [
    "### Setting an index"
   ]
  },
  {
   "cell_type": "code",
   "execution_count": 29,
   "metadata": {},
   "outputs": [
    {
     "name": "stdout",
     "output_type": "stream",
     "text": [
      "            length_hours  num_attendees delivered_by\n",
      "date                                                \n",
      "2016-01-08           1.5             20           FG\n",
      "2016-01-13           1.0             21           JM\n",
      "2016-01-22           1.0             35           JM\n",
      "2016-02-02           1.5             36           JM\n",
      "2016-02-03           1.5             22           JM\n",
      "2016-02-03           1.0             30           JM\n",
      "2016-02-20           1.5             36           FG\n",
      "2016-02-28           1.5             28           JM\n",
      "2016-03-19           1.5             33           FG\n",
      "2016-03-19           1.0             39           JM\n",
      "2016-04-04           1.5             21           JM\n",
      "2016-05-05           1.5             25           JM\n",
      "2016-05-18           1.0             22           JM\n",
      "2016-05-19           1.5             20           FG\n",
      "2016-05-21           1.5             21           JM\n",
      "2016-06-14           1.5             37           JM\n",
      "2016-06-18           1.5             25           JM\n",
      "2016-07-04           1.5             39           JM\n",
      "2016-07-06           1.5             39           JM\n",
      "2016-07-10           1.5             34           JM\n",
      "2016-07-13           1.5             23           FG\n",
      "2016-07-17           1.5             30           JM\n",
      "2016-08-03           1.5             28           JM\n",
      "2016-08-20           1.5             32           JM\n",
      "2016-08-26           1.5             25           JM\n",
      "2016-08-28           1.5             33           FG\n",
      "2016-10-01           1.5             38           JM\n",
      "2016-10-21           1.5             34           JM\n",
      "2016-11-09           1.5             32           JM\n",
      "2016-11-15           1.5             35           JM\n",
      "2016-11-15           1.5             27           JM\n",
      "2016-12-02           1.5             35           FG\n",
      "2016-12-07           1.5             23           JM\n",
      "2016-12-11           1.5             38           FG\n",
      "2016-12-19           1.5             20           FG\n"
     ]
    }
   ],
   "source": [
    "workshop_2016.set_index('date', inplace=True)\n",
    "print(workshop_2016)"
   ]
  },
  {
   "cell_type": "markdown",
   "metadata": {},
   "source": [
    "### Use the DataFrame.info() method to find out more about a dataframe."
   ]
  },
  {
   "cell_type": "code",
   "execution_count": 30,
   "metadata": {},
   "outputs": [
    {
     "name": "stdout",
     "output_type": "stream",
     "text": [
      "<class 'pandas.core.frame.DataFrame'>\n",
      "Index: 35 entries, 2016-01-08 to 2016-12-19\n",
      "Data columns (total 3 columns):\n",
      " #   Column         Non-Null Count  Dtype  \n",
      "---  ------         --------------  -----  \n",
      " 0   length_hours   35 non-null     float64\n",
      " 1   num_attendees  35 non-null     int64  \n",
      " 2   delivered_by   35 non-null     object \n",
      "dtypes: float64(1), int64(1), object(1)\n",
      "memory usage: 1.1+ KB\n"
     ]
    }
   ],
   "source": [
    "workshop_2016.info()"
   ]
  },
  {
   "cell_type": "markdown",
   "metadata": {},
   "source": [
    "* This is a DataFrame\n",
    "* 35 rows indexed by the workshop dates\n",
    "* Three columns named `length_hours`, `num_attendees`, `delivered_by`"
   ]
  },
  {
   "cell_type": "markdown",
   "metadata": {},
   "source": [
    "### Use DataFrame.describe() to get summary statistics about data.\n",
    "* `DataFrame.describe()` gets the summary statistics of only the columns that have numerical data.\n",
    "* All other columns are ignored, unless you use the argument `include='all'`."
   ]
  },
  {
   "cell_type": "code",
   "execution_count": 33,
   "metadata": {},
   "outputs": [
    {
     "data": {
      "text/html": [
       "<div>\n",
       "<style scoped>\n",
       "    .dataframe tbody tr th:only-of-type {\n",
       "        vertical-align: middle;\n",
       "    }\n",
       "\n",
       "    .dataframe tbody tr th {\n",
       "        vertical-align: top;\n",
       "    }\n",
       "\n",
       "    .dataframe thead th {\n",
       "        text-align: right;\n",
       "    }\n",
       "</style>\n",
       "<table border=\"1\" class=\"dataframe\">\n",
       "  <thead>\n",
       "    <tr style=\"text-align: right;\">\n",
       "      <th></th>\n",
       "      <th>length_hours</th>\n",
       "      <th>num_attendees</th>\n",
       "      <th>delivered_by</th>\n",
       "    </tr>\n",
       "  </thead>\n",
       "  <tbody>\n",
       "    <tr>\n",
       "      <th>count</th>\n",
       "      <td>35.000000</td>\n",
       "      <td>35.000000</td>\n",
       "      <td>35</td>\n",
       "    </tr>\n",
       "    <tr>\n",
       "      <th>unique</th>\n",
       "      <td>NaN</td>\n",
       "      <td>NaN</td>\n",
       "      <td>2</td>\n",
       "    </tr>\n",
       "    <tr>\n",
       "      <th>top</th>\n",
       "      <td>NaN</td>\n",
       "      <td>NaN</td>\n",
       "      <td>JM</td>\n",
       "    </tr>\n",
       "    <tr>\n",
       "      <th>freq</th>\n",
       "      <td>NaN</td>\n",
       "      <td>NaN</td>\n",
       "      <td>26</td>\n",
       "    </tr>\n",
       "    <tr>\n",
       "      <th>mean</th>\n",
       "      <td>1.428571</td>\n",
       "      <td>29.600000</td>\n",
       "      <td>NaN</td>\n",
       "    </tr>\n",
       "    <tr>\n",
       "      <th>std</th>\n",
       "      <td>0.177518</td>\n",
       "      <td>6.598574</td>\n",
       "      <td>NaN</td>\n",
       "    </tr>\n",
       "    <tr>\n",
       "      <th>min</th>\n",
       "      <td>1.000000</td>\n",
       "      <td>20.000000</td>\n",
       "      <td>NaN</td>\n",
       "    </tr>\n",
       "    <tr>\n",
       "      <th>25%</th>\n",
       "      <td>1.500000</td>\n",
       "      <td>23.000000</td>\n",
       "      <td>NaN</td>\n",
       "    </tr>\n",
       "    <tr>\n",
       "      <th>50%</th>\n",
       "      <td>1.500000</td>\n",
       "      <td>30.000000</td>\n",
       "      <td>NaN</td>\n",
       "    </tr>\n",
       "    <tr>\n",
       "      <th>75%</th>\n",
       "      <td>1.500000</td>\n",
       "      <td>35.000000</td>\n",
       "      <td>NaN</td>\n",
       "    </tr>\n",
       "    <tr>\n",
       "      <th>max</th>\n",
       "      <td>1.500000</td>\n",
       "      <td>39.000000</td>\n",
       "      <td>NaN</td>\n",
       "    </tr>\n",
       "  </tbody>\n",
       "</table>\n",
       "</div>"
      ],
      "text/plain": [
       "        length_hours  num_attendees delivered_by\n",
       "count      35.000000      35.000000           35\n",
       "unique           NaN            NaN            2\n",
       "top              NaN            NaN           JM\n",
       "freq             NaN            NaN           26\n",
       "mean        1.428571      29.600000          NaN\n",
       "std         0.177518       6.598574          NaN\n",
       "min         1.000000      20.000000          NaN\n",
       "25%         1.500000      23.000000          NaN\n",
       "50%         1.500000      30.000000          NaN\n",
       "75%         1.500000      35.000000          NaN\n",
       "max         1.500000      39.000000          NaN"
      ]
     },
     "execution_count": 33,
     "metadata": {},
     "output_type": "execute_result"
    }
   ],
   "source": [
    "workshop_2016.describe(include='all')"
   ]
  },
  {
   "cell_type": "markdown",
   "metadata": {},
   "source": [
    "### Exercise: Reading data from different directories on your computer\n",
    "* Above, we loaded data directly from GitHub\n",
    "* What if we wanted to read a file from our computer?\n",
    "* **Try loading a CSV file from one of our previous lessons**\n",
    "\n",
    "How can we access files from a different directory?"
   ]
  },
  {
   "cell_type": "markdown",
   "metadata": {},
   "source": [
    "<hr />\n",
    "\n",
    "## Working with RDF files\n",
    "* RDF files contain a list of triples (subject, predicate, and object)\n",
    "* RDF files describe a graph (a set of connections between nodes)\n",
    "* To work with RDF files in Python, we first import the RDF library and some shortcuts for terms\n",
    "\n",
    "### Default namespaces\n",
    "RDF: Resource Description Framework  \n",
    "RDFS: RDF Semantics  \n",
    "\n",
    "### Creating custom namespaces\n",
    "Namespace: Allows us to create custom namespaces  \n",
    "BOC: Our shorthand for the Bank of Canada namespace\n",
    "\n",
    "### Simplified schematic of Language RDF Dataset\n",
    "<img alt=\"BOC Language Dataset Schematic\" src=\"image-6.png\" width=\"700\" />"
   ]
  },
  {
   "cell_type": "code",
   "execution_count": 2,
   "metadata": {
    "tags": []
   },
   "outputs": [
    {
     "name": "stdout",
     "output_type": "stream",
     "text": [
      "8665\n"
     ]
    }
   ],
   "source": [
    "import rdflib\n",
    "from rdflib.namespace import RDF, RDFS, Namespace\n",
    "\n",
    "# Create custom namespaces used in Bank of Canada RDF data files\n",
    "BOC = Namespace(\"https://www.bankofcanada.ca/model#\")\n",
    "\n",
    "# import rdf file\n",
    "g = rdflib.Graph()\n",
    "g.bind(\"boc\", BOC)   # this tells rdflib about our shorthand for the BOC namespace\n",
    "g.parse(\"http://10.220.12.6/LANG_STG_15-09-2023.rdf\", format='xml')\n",
    "\n",
    "# print the number of triples in the graph\n",
    "print(len(g))"
   ]
  },
  {
   "cell_type": "code",
   "execution_count": 3,
   "metadata": {
    "tags": []
   },
   "outputs": [
    {
     "name": "stdout",
     "output_type": "stream",
     "text": [
      "https://www.bankofcanada.ca/id/9e166a08-269b-4777-81dc-1fb90aa34d16 http://www.w3.org/1999/02/22-rdf-syntax-ns#type https://www.bankofcanada.ca/model#Alpha3CodeLanguage\n",
      "https://www.bankofcanada.ca/id/b9c13167-d346-4453-95da-548c2848495d http://www.w3.org/2004/02/skos/core#hiddenLabel selkoupe\n",
      "https://www.bankofcanada.ca/id/311341c1-7a12-47d3-ab0e-a61eb8de1980 https://www.bankofcanada.ca/model#externalUri https://www.omg.org/spec/LCC/Languages/ISO639-2-LanguageCodes/kar\n",
      "https://www.bankofcanada.ca/id/b8487bc7-5c40-42d1-93f1-fcdb96021f21 http://www.mondeca.com/system/t3#inGroup https://www.bankofcanada.ca/id/LivingLanguage\n",
      "https://www.bankofcanada.ca/id/1a6a6356-5009-477a-8507-0995e30975fb http://www.mondeca.com/system/t3#inGroup https://www.bankofcanada.ca/id/Languages\n",
      "https://www.bankofcanada.ca/id/328adf8f-8f08-4003-9f71-41b239526b45 https://www.bankofcanada.ca/model#hasDenotation https://www.bankofcanada.ca/id/7504d437-482f-4ec5-b3b8-58449253deb7\n",
      "https://www.bankofcanada.ca/id/94f1ae8b-24f9-4f9e-bc44-1ce1e637c171 https://www.bankofcanada.ca/model#hasDenotation https://www.bankofcanada.ca/id/31d6c432-3fbc-4e81-8ea8-b2695e1b335d\n",
      "https://www.bankofcanada.ca/id/9d20e00c-7c10-4e09-808b-284cb528419f http://www.w3.org/1999/02/22-rdf-syntax-ns#type https://www.bankofcanada.ca/model#Language\n",
      "https://www.bankofcanada.ca/id/bc918465-49bb-4ed8-8887-4b7e9e7196e7 https://www.bankofcanada.ca/model#externalUri https://www.omg.org/spec/LCC/Languages/ISO639-2-LanguageCodes/apa\n",
      "https://www.bankofcanada.ca/id/8dcc3944-d66f-47db-9028-ea3990c8ba79 https://www.bankofcanada.ca/model#externalUri https://www.omg.org/spec/LCC/Languages/ISO639-2-LanguageCodes/NKo\n"
     ]
    }
   ],
   "source": [
    "# print the first 10 triples\n",
    "for s, p, o in list(g)[:10]:\n",
    "    print(s, p, o)"
   ]
  },
  {
   "cell_type": "code",
   "execution_count": 5,
   "metadata": {
    "tags": []
   },
   "outputs": [
    {
     "name": "stdout",
     "output_type": "stream",
     "text": [
      "{'https://www.bankofcanada.ca/model#LanguageFamily', 'https://www.bankofcanada.ca/model#Language', 'https://www.bankofcanada.ca/model#Alpha3CodeLanguage', 'https://www.bankofcanada.ca/model#Alpha2CodeLanguage'}\n"
     ]
    }
   ],
   "source": [
    "# get a list of all data types\n",
    "data_types = set()    # a set is like a LIST except all the values are unique\n",
    "for s, p, o in g.triples((None, RDF.type, None)):\n",
    "    data_types.add(str(o))\n",
    "    \n",
    "print(data_types)"
   ]
  },
  {
   "cell_type": "code",
   "execution_count": 6,
   "metadata": {
    "tags": []
   },
   "outputs": [
    {
     "name": "stdout",
     "output_type": "stream",
     "text": [
      "[rdflib.term.URIRef('https://www.bankofcanada.ca/id/0156c97d-07d6-43d2-bd92-63c4c062428a'), rdflib.term.URIRef('https://www.bankofcanada.ca/id/03375036-4837-46bf-ae52-8c57938002db'), rdflib.term.URIRef('https://www.bankofcanada.ca/id/04a982f6-48e2-4a5e-ab52-d80ab7e3b233'), rdflib.term.URIRef('https://www.bankofcanada.ca/id/051ef2ca-5641-45d9-99f8-66d44d5c3b99'), rdflib.term.URIRef('https://www.bankofcanada.ca/id/05b1dd74-98b1-4bf3-b609-f8eec395cbad'), rdflib.term.URIRef('https://www.bankofcanada.ca/id/061c8f13-3827-40d9-abb0-0318ac73f5e8'), rdflib.term.URIRef('https://www.bankofcanada.ca/id/068f3e2a-3f12-4cd9-a93e-9be1faf18fa1'), rdflib.term.URIRef('https://www.bankofcanada.ca/id/06c8263b-3a0b-4d80-80a3-72460dc99443'), rdflib.term.URIRef('https://www.bankofcanada.ca/id/079ac9ad-cd5f-4d1d-84a0-3ed6abf86288'), rdflib.term.URIRef('https://www.bankofcanada.ca/id/08909db5-bc70-4a37-8d1e-4d75f5dc9d67')]\n"
     ]
    }
   ],
   "source": [
    "# Search for all triples describing ISO 2 letter language codes\n",
    "two_letter_subject = list(g.subjects(RDF.type, BOC.Alpha2CodeLanguage))\n",
    "print(two_letter_subject[:10])"
   ]
  },
  {
   "cell_type": "code",
   "execution_count": 28,
   "metadata": {},
   "outputs": [
    {
     "data": {
      "text/html": [
       "<div>\n",
       "<style scoped>\n",
       "    .dataframe tbody tr th:only-of-type {\n",
       "        vertical-align: middle;\n",
       "    }\n",
       "\n",
       "    .dataframe tbody tr th {\n",
       "        vertical-align: top;\n",
       "    }\n",
       "\n",
       "    .dataframe thead th {\n",
       "        text-align: right;\n",
       "    }\n",
       "</style>\n",
       "<table border=\"1\" class=\"dataframe\">\n",
       "  <thead>\n",
       "    <tr style=\"text-align: right;\">\n",
       "      <th></th>\n",
       "      <th>two_letter_subject</th>\n",
       "    </tr>\n",
       "  </thead>\n",
       "  <tbody>\n",
       "    <tr>\n",
       "      <th>0</th>\n",
       "      <td>https://www.bankofcanada.ca/id/0156c97d-07d6-4...</td>\n",
       "    </tr>\n",
       "    <tr>\n",
       "      <th>1</th>\n",
       "      <td>https://www.bankofcanada.ca/id/03375036-4837-4...</td>\n",
       "    </tr>\n",
       "    <tr>\n",
       "      <th>2</th>\n",
       "      <td>https://www.bankofcanada.ca/id/04a982f6-48e2-4...</td>\n",
       "    </tr>\n",
       "    <tr>\n",
       "      <th>3</th>\n",
       "      <td>https://www.bankofcanada.ca/id/051ef2ca-5641-4...</td>\n",
       "    </tr>\n",
       "    <tr>\n",
       "      <th>4</th>\n",
       "      <td>https://www.bankofcanada.ca/id/05b1dd74-98b1-4...</td>\n",
       "    </tr>\n",
       "  </tbody>\n",
       "</table>\n",
       "</div>"
      ],
      "text/plain": [
       "                                  two_letter_subject\n",
       "0  https://www.bankofcanada.ca/id/0156c97d-07d6-4...\n",
       "1  https://www.bankofcanada.ca/id/03375036-4837-4...\n",
       "2  https://www.bankofcanada.ca/id/04a982f6-48e2-4...\n",
       "3  https://www.bankofcanada.ca/id/051ef2ca-5641-4...\n",
       "4  https://www.bankofcanada.ca/id/05b1dd74-98b1-4..."
      ]
     },
     "execution_count": 28,
     "metadata": {},
     "output_type": "execute_result"
    }
   ],
   "source": [
    "# put this into a DataFrame\n",
    "import pandas as pd\n",
    "lang_df = pd.DataFrame(two_letter_subject, columns=['two_letter_subject'])\n",
    "\n",
    "lang_df.head()"
   ]
  },
  {
   "cell_type": "code",
   "execution_count": 31,
   "metadata": {},
   "outputs": [
    {
     "data": {
      "text/html": [
       "<div>\n",
       "<style scoped>\n",
       "    .dataframe tbody tr th:only-of-type {\n",
       "        vertical-align: middle;\n",
       "    }\n",
       "\n",
       "    .dataframe tbody tr th {\n",
       "        vertical-align: top;\n",
       "    }\n",
       "\n",
       "    .dataframe thead th {\n",
       "        text-align: right;\n",
       "    }\n",
       "</style>\n",
       "<table border=\"1\" class=\"dataframe\">\n",
       "  <thead>\n",
       "    <tr style=\"text-align: right;\">\n",
       "      <th></th>\n",
       "      <th>two_letter_subject</th>\n",
       "      <th>two_letter_label</th>\n",
       "    </tr>\n",
       "  </thead>\n",
       "  <tbody>\n",
       "    <tr>\n",
       "      <th>0</th>\n",
       "      <td>https://www.bankofcanada.ca/id/0156c97d-07d6-4...</td>\n",
       "      <td>th</td>\n",
       "    </tr>\n",
       "    <tr>\n",
       "      <th>1</th>\n",
       "      <td>https://www.bankofcanada.ca/id/03375036-4837-4...</td>\n",
       "      <td>ik</td>\n",
       "    </tr>\n",
       "    <tr>\n",
       "      <th>2</th>\n",
       "      <td>https://www.bankofcanada.ca/id/04a982f6-48e2-4...</td>\n",
       "      <td>si</td>\n",
       "    </tr>\n",
       "    <tr>\n",
       "      <th>3</th>\n",
       "      <td>https://www.bankofcanada.ca/id/051ef2ca-5641-4...</td>\n",
       "      <td>ch</td>\n",
       "    </tr>\n",
       "    <tr>\n",
       "      <th>4</th>\n",
       "      <td>https://www.bankofcanada.ca/id/05b1dd74-98b1-4...</td>\n",
       "      <td>li</td>\n",
       "    </tr>\n",
       "  </tbody>\n",
       "</table>\n",
       "</div>"
      ],
      "text/plain": [
       "                                  two_letter_subject two_letter_label\n",
       "0  https://www.bankofcanada.ca/id/0156c97d-07d6-4...               th\n",
       "1  https://www.bankofcanada.ca/id/03375036-4837-4...               ik\n",
       "2  https://www.bankofcanada.ca/id/04a982f6-48e2-4...               si\n",
       "3  https://www.bankofcanada.ca/id/051ef2ca-5641-4...               ch\n",
       "4  https://www.bankofcanada.ca/id/05b1dd74-98b1-4...               li"
      ]
     },
     "execution_count": 31,
     "metadata": {},
     "output_type": "execute_result"
    }
   ],
   "source": [
    "# get the associated string labels for each language codes\n",
    "lang_df['two_letter_label'] = ''\n",
    "for row_num, row_data in lang_df.iterrows():\n",
    "    label = g.value(row_data['two_letter_subject'], RDFS.label)\n",
    "    lang_df.loc[row_num, 'two_letter_label'] = label\n",
    "    \n",
    "lang_df.head()"
   ]
  },
  {
   "cell_type": "code",
   "execution_count": 32,
   "metadata": {},
   "outputs": [
    {
     "data": {
      "text/html": [
       "<div>\n",
       "<style scoped>\n",
       "    .dataframe tbody tr th:only-of-type {\n",
       "        vertical-align: middle;\n",
       "    }\n",
       "\n",
       "    .dataframe tbody tr th {\n",
       "        vertical-align: top;\n",
       "    }\n",
       "\n",
       "    .dataframe thead th {\n",
       "        text-align: right;\n",
       "    }\n",
       "</style>\n",
       "<table border=\"1\" class=\"dataframe\">\n",
       "  <thead>\n",
       "    <tr style=\"text-align: right;\">\n",
       "      <th></th>\n",
       "      <th>two_letter_subject</th>\n",
       "      <th>two_letter_label</th>\n",
       "      <th>language_subject</th>\n",
       "      <th>language_label</th>\n",
       "    </tr>\n",
       "  </thead>\n",
       "  <tbody>\n",
       "    <tr>\n",
       "      <th>0</th>\n",
       "      <td>https://www.bankofcanada.ca/id/0156c97d-07d6-4...</td>\n",
       "      <td>th</td>\n",
       "      <td>https://www.bankofcanada.ca/id/057bd7b0-3b29-4...</td>\n",
       "      <td>Thai</td>\n",
       "    </tr>\n",
       "    <tr>\n",
       "      <th>1</th>\n",
       "      <td>https://www.bankofcanada.ca/id/03375036-4837-4...</td>\n",
       "      <td>ik</td>\n",
       "      <td>https://www.bankofcanada.ca/id/f78dd330-b7d4-4...</td>\n",
       "      <td>Inupiaq</td>\n",
       "    </tr>\n",
       "    <tr>\n",
       "      <th>2</th>\n",
       "      <td>https://www.bankofcanada.ca/id/04a982f6-48e2-4...</td>\n",
       "      <td>si</td>\n",
       "      <td>https://www.bankofcanada.ca/id/d0ff5be7-108a-4...</td>\n",
       "      <td>Sinhala</td>\n",
       "    </tr>\n",
       "    <tr>\n",
       "      <th>3</th>\n",
       "      <td>https://www.bankofcanada.ca/id/051ef2ca-5641-4...</td>\n",
       "      <td>ch</td>\n",
       "      <td>https://www.bankofcanada.ca/id/09a4ebfe-8300-4...</td>\n",
       "      <td>Chamorro</td>\n",
       "    </tr>\n",
       "    <tr>\n",
       "      <th>4</th>\n",
       "      <td>https://www.bankofcanada.ca/id/05b1dd74-98b1-4...</td>\n",
       "      <td>li</td>\n",
       "      <td>https://www.bankofcanada.ca/id/74a6898d-b0be-4...</td>\n",
       "      <td>Limburgan</td>\n",
       "    </tr>\n",
       "  </tbody>\n",
       "</table>\n",
       "</div>"
      ],
      "text/plain": [
       "                                  two_letter_subject two_letter_label  \\\n",
       "0  https://www.bankofcanada.ca/id/0156c97d-07d6-4...               th   \n",
       "1  https://www.bankofcanada.ca/id/03375036-4837-4...               ik   \n",
       "2  https://www.bankofcanada.ca/id/04a982f6-48e2-4...               si   \n",
       "3  https://www.bankofcanada.ca/id/051ef2ca-5641-4...               ch   \n",
       "4  https://www.bankofcanada.ca/id/05b1dd74-98b1-4...               li   \n",
       "\n",
       "                                    language_subject language_label  \n",
       "0  https://www.bankofcanada.ca/id/057bd7b0-3b29-4...           Thai  \n",
       "1  https://www.bankofcanada.ca/id/f78dd330-b7d4-4...        Inupiaq  \n",
       "2  https://www.bankofcanada.ca/id/d0ff5be7-108a-4...        Sinhala  \n",
       "3  https://www.bankofcanada.ca/id/09a4ebfe-8300-4...       Chamorro  \n",
       "4  https://www.bankofcanada.ca/id/74a6898d-b0be-4...      Limburgan  "
      ]
     },
     "execution_count": 32,
     "metadata": {},
     "output_type": "execute_result"
    }
   ],
   "source": [
    "# find the associated language subject and label that is denoted by each two letter code\n",
    "lang_df['language_subject'] = ''\n",
    "lang_df['language_label'] = ''\n",
    "for row_num, row_data in lang_df.iterrows():\n",
    "    id = g.value(row_data['two_letter_subject'], BOC.denotes)\n",
    "    \n",
    "    # lookup the label for the language\n",
    "    label = g.value(id, RDFS.label)\n",
    "    \n",
    "    # add the language id and label to the dataframe\n",
    "    lang_df.loc[row_num, 'language_subject'] = id\n",
    "    lang_df.loc[row_num, 'language_label'] = label\n",
    "    \n",
    "lang_df.head()   # what about viewing the last 5 rows?"
   ]
  },
  {
   "cell_type": "code",
   "execution_count": null,
   "metadata": {},
   "outputs": [],
   "source": [
    "# save the two letter labels and language labels to CSV\n",
    "lang_df[['two_letter_label', 'language_label']].to_csv('language_labels.csv', index=False)"
   ]
  },
  {
   "cell_type": "markdown",
   "metadata": {},
   "source": [
    "### Exercise:\n",
    "* Add a column for each language's Indigenous name and populate this column from the RDF Graph\n",
    "* Hint: the *predicate* for a language's Indigenous name is `BOC.hasIndigenousName`"
   ]
  },
  {
   "cell_type": "code",
   "execution_count": 42,
   "metadata": {},
   "outputs": [
    {
     "ename": "UnicodeEncodeError",
     "evalue": "'ascii' codec can't encode character '\\u1e41' in position 13: ordinal not in range(128)",
     "output_type": "error",
     "traceback": [
      "\u001b[1;31m---------------------------------------------------------------------------\u001b[0m",
      "\u001b[1;31mUnicodeEncodeError\u001b[0m                        Traceback (most recent call last)",
      "\u001b[1;32mc:\\Users\\simeon wong\\Downloads\\boc_python\\boc_lesson.ipynb Cell 58\u001b[0m line \u001b[0;36m1\n\u001b[0;32m     <a href='vscode-notebook-cell:/c%3A/Users/simeon%20wong/Downloads/boc_python/boc_lesson.ipynb#Y115sZmlsZQ%3D%3D?line=10'>11</a>\u001b[0m \u001b[39m# why encoding matters: let's try saving to CSV with the older ascii encoding\u001b[39;00m\n\u001b[0;32m     <a href='vscode-notebook-cell:/c%3A/Users/simeon%20wong/Downloads/boc_python/boc_lesson.ipynb#Y115sZmlsZQ%3D%3D?line=11'>12</a>\u001b[0m lang_df[[\u001b[39m'\u001b[39m\u001b[39mtwo_letter_label\u001b[39m\u001b[39m'\u001b[39m, \u001b[39m'\u001b[39m\u001b[39mlanguage_label\u001b[39m\u001b[39m'\u001b[39m, \u001b[39m'\u001b[39m\u001b[39mindigenous_name\u001b[39m\u001b[39m'\u001b[39m]]\u001b[39m.\u001b[39mto_csv(\u001b[39m'\u001b[39m\u001b[39mlanguage_labels.csv\u001b[39m\u001b[39m'\u001b[39m, index\u001b[39m=\u001b[39m\u001b[39mFalse\u001b[39;00m)  \u001b[39m# by default, encoding is UTF-8\u001b[39;00m\n\u001b[1;32m---> <a href='vscode-notebook-cell:/c%3A/Users/simeon%20wong/Downloads/boc_python/boc_lesson.ipynb#Y115sZmlsZQ%3D%3D?line=12'>13</a>\u001b[0m lang_df[[\u001b[39m'\u001b[39;49m\u001b[39mtwo_letter_label\u001b[39;49m\u001b[39m'\u001b[39;49m, \u001b[39m'\u001b[39;49m\u001b[39mlanguage_label\u001b[39;49m\u001b[39m'\u001b[39;49m, \u001b[39m'\u001b[39;49m\u001b[39mindigenous_name\u001b[39;49m\u001b[39m'\u001b[39;49m]]\u001b[39m.\u001b[39;49mto_csv(\u001b[39m'\u001b[39;49m\u001b[39mlanguage_labels_ascii.csv\u001b[39;49m\u001b[39m'\u001b[39;49m, index\u001b[39m=\u001b[39;49m\u001b[39mFalse\u001b[39;49;00m, encoding\u001b[39m=\u001b[39;49m\u001b[39m'\u001b[39;49m\u001b[39mascii\u001b[39;49m\u001b[39m'\u001b[39;49m)\n",
      "File \u001b[1;32mc:\\Users\\simeon wong\\AppData\\Local\\miniconda3\\envs\\p311\\Lib\\site-packages\\pandas\\core\\generic.py:3772\u001b[0m, in \u001b[0;36mNDFrame.to_csv\u001b[1;34m(self, path_or_buf, sep, na_rep, float_format, columns, header, index, index_label, mode, encoding, compression, quoting, quotechar, lineterminator, chunksize, date_format, doublequote, escapechar, decimal, errors, storage_options)\u001b[0m\n\u001b[0;32m   3761\u001b[0m df \u001b[39m=\u001b[39m \u001b[39mself\u001b[39m \u001b[39mif\u001b[39;00m \u001b[39misinstance\u001b[39m(\u001b[39mself\u001b[39m, ABCDataFrame) \u001b[39melse\u001b[39;00m \u001b[39mself\u001b[39m\u001b[39m.\u001b[39mto_frame()\n\u001b[0;32m   3763\u001b[0m formatter \u001b[39m=\u001b[39m DataFrameFormatter(\n\u001b[0;32m   3764\u001b[0m     frame\u001b[39m=\u001b[39mdf,\n\u001b[0;32m   3765\u001b[0m     header\u001b[39m=\u001b[39mheader,\n\u001b[1;32m   (...)\u001b[0m\n\u001b[0;32m   3769\u001b[0m     decimal\u001b[39m=\u001b[39mdecimal,\n\u001b[0;32m   3770\u001b[0m )\n\u001b[1;32m-> 3772\u001b[0m \u001b[39mreturn\u001b[39;00m DataFrameRenderer(formatter)\u001b[39m.\u001b[39;49mto_csv(\n\u001b[0;32m   3773\u001b[0m     path_or_buf,\n\u001b[0;32m   3774\u001b[0m     lineterminator\u001b[39m=\u001b[39;49mlineterminator,\n\u001b[0;32m   3775\u001b[0m     sep\u001b[39m=\u001b[39;49msep,\n\u001b[0;32m   3776\u001b[0m     encoding\u001b[39m=\u001b[39;49mencoding,\n\u001b[0;32m   3777\u001b[0m     errors\u001b[39m=\u001b[39;49merrors,\n\u001b[0;32m   3778\u001b[0m     compression\u001b[39m=\u001b[39;49mcompression,\n\u001b[0;32m   3779\u001b[0m     quoting\u001b[39m=\u001b[39;49mquoting,\n\u001b[0;32m   3780\u001b[0m     columns\u001b[39m=\u001b[39;49mcolumns,\n\u001b[0;32m   3781\u001b[0m     index_label\u001b[39m=\u001b[39;49mindex_label,\n\u001b[0;32m   3782\u001b[0m     mode\u001b[39m=\u001b[39;49mmode,\n\u001b[0;32m   3783\u001b[0m     chunksize\u001b[39m=\u001b[39;49mchunksize,\n\u001b[0;32m   3784\u001b[0m     quotechar\u001b[39m=\u001b[39;49mquotechar,\n\u001b[0;32m   3785\u001b[0m     date_format\u001b[39m=\u001b[39;49mdate_format,\n\u001b[0;32m   3786\u001b[0m     doublequote\u001b[39m=\u001b[39;49mdoublequote,\n\u001b[0;32m   3787\u001b[0m     escapechar\u001b[39m=\u001b[39;49mescapechar,\n\u001b[0;32m   3788\u001b[0m     storage_options\u001b[39m=\u001b[39;49mstorage_options,\n\u001b[0;32m   3789\u001b[0m )\n",
      "File \u001b[1;32mc:\\Users\\simeon wong\\AppData\\Local\\miniconda3\\envs\\p311\\Lib\\site-packages\\pandas\\io\\formats\\format.py:1186\u001b[0m, in \u001b[0;36mDataFrameRenderer.to_csv\u001b[1;34m(self, path_or_buf, encoding, sep, columns, index_label, mode, compression, quoting, quotechar, lineterminator, chunksize, date_format, doublequote, escapechar, errors, storage_options)\u001b[0m\n\u001b[0;32m   1165\u001b[0m     created_buffer \u001b[39m=\u001b[39m \u001b[39mFalse\u001b[39;00m\n\u001b[0;32m   1167\u001b[0m csv_formatter \u001b[39m=\u001b[39m CSVFormatter(\n\u001b[0;32m   1168\u001b[0m     path_or_buf\u001b[39m=\u001b[39mpath_or_buf,\n\u001b[0;32m   1169\u001b[0m     lineterminator\u001b[39m=\u001b[39mlineterminator,\n\u001b[1;32m   (...)\u001b[0m\n\u001b[0;32m   1184\u001b[0m     formatter\u001b[39m=\u001b[39m\u001b[39mself\u001b[39m\u001b[39m.\u001b[39mfmt,\n\u001b[0;32m   1185\u001b[0m )\n\u001b[1;32m-> 1186\u001b[0m csv_formatter\u001b[39m.\u001b[39;49msave()\n\u001b[0;32m   1188\u001b[0m \u001b[39mif\u001b[39;00m created_buffer:\n\u001b[0;32m   1189\u001b[0m     \u001b[39massert\u001b[39;00m \u001b[39misinstance\u001b[39m(path_or_buf, StringIO)\n",
      "File \u001b[1;32mc:\\Users\\simeon wong\\AppData\\Local\\miniconda3\\envs\\p311\\Lib\\site-packages\\pandas\\io\\formats\\csvs.py:259\u001b[0m, in \u001b[0;36mCSVFormatter.save\u001b[1;34m(self)\u001b[0m\n\u001b[0;32m    240\u001b[0m \u001b[39mwith\u001b[39;00m get_handle(\n\u001b[0;32m    241\u001b[0m     \u001b[39mself\u001b[39m\u001b[39m.\u001b[39mfilepath_or_buffer,\n\u001b[0;32m    242\u001b[0m     \u001b[39mself\u001b[39m\u001b[39m.\u001b[39mmode,\n\u001b[1;32m   (...)\u001b[0m\n\u001b[0;32m    247\u001b[0m ) \u001b[39mas\u001b[39;00m handles:\n\u001b[0;32m    248\u001b[0m     \u001b[39m# Note: self.encoding is irrelevant here\u001b[39;00m\n\u001b[0;32m    249\u001b[0m     \u001b[39mself\u001b[39m\u001b[39m.\u001b[39mwriter \u001b[39m=\u001b[39m csvlib\u001b[39m.\u001b[39mwriter(\n\u001b[0;32m    250\u001b[0m         handles\u001b[39m.\u001b[39mhandle,\n\u001b[0;32m    251\u001b[0m         lineterminator\u001b[39m=\u001b[39m\u001b[39mself\u001b[39m\u001b[39m.\u001b[39mlineterminator,\n\u001b[1;32m   (...)\u001b[0m\n\u001b[0;32m    256\u001b[0m         quotechar\u001b[39m=\u001b[39m\u001b[39mself\u001b[39m\u001b[39m.\u001b[39mquotechar,\n\u001b[0;32m    257\u001b[0m     )\n\u001b[1;32m--> 259\u001b[0m     \u001b[39mself\u001b[39;49m\u001b[39m.\u001b[39;49m_save()\n",
      "File \u001b[1;32mc:\\Users\\simeon wong\\AppData\\Local\\miniconda3\\envs\\p311\\Lib\\site-packages\\pandas\\io\\formats\\csvs.py:264\u001b[0m, in \u001b[0;36mCSVFormatter._save\u001b[1;34m(self)\u001b[0m\n\u001b[0;32m    262\u001b[0m \u001b[39mif\u001b[39;00m \u001b[39mself\u001b[39m\u001b[39m.\u001b[39m_need_to_save_header:\n\u001b[0;32m    263\u001b[0m     \u001b[39mself\u001b[39m\u001b[39m.\u001b[39m_save_header()\n\u001b[1;32m--> 264\u001b[0m \u001b[39mself\u001b[39;49m\u001b[39m.\u001b[39;49m_save_body()\n",
      "File \u001b[1;32mc:\\Users\\simeon wong\\AppData\\Local\\miniconda3\\envs\\p311\\Lib\\site-packages\\pandas\\io\\formats\\csvs.py:302\u001b[0m, in \u001b[0;36mCSVFormatter._save_body\u001b[1;34m(self)\u001b[0m\n\u001b[0;32m    300\u001b[0m \u001b[39mif\u001b[39;00m start_i \u001b[39m>\u001b[39m\u001b[39m=\u001b[39m end_i:\n\u001b[0;32m    301\u001b[0m     \u001b[39mbreak\u001b[39;00m\n\u001b[1;32m--> 302\u001b[0m \u001b[39mself\u001b[39;49m\u001b[39m.\u001b[39;49m_save_chunk(start_i, end_i)\n",
      "File \u001b[1;32mc:\\Users\\simeon wong\\AppData\\Local\\miniconda3\\envs\\p311\\Lib\\site-packages\\pandas\\io\\formats\\csvs.py:313\u001b[0m, in \u001b[0;36mCSVFormatter._save_chunk\u001b[1;34m(self, start_i, end_i)\u001b[0m\n\u001b[0;32m    310\u001b[0m data \u001b[39m=\u001b[39m [res\u001b[39m.\u001b[39miget_values(i) \u001b[39mfor\u001b[39;00m i \u001b[39min\u001b[39;00m \u001b[39mrange\u001b[39m(\u001b[39mlen\u001b[39m(res\u001b[39m.\u001b[39mitems))]\n\u001b[0;32m    312\u001b[0m ix \u001b[39m=\u001b[39m \u001b[39mself\u001b[39m\u001b[39m.\u001b[39mdata_index[slicer]\u001b[39m.\u001b[39m_format_native_types(\u001b[39m*\u001b[39m\u001b[39m*\u001b[39m\u001b[39mself\u001b[39m\u001b[39m.\u001b[39m_number_format)\n\u001b[1;32m--> 313\u001b[0m libwriters\u001b[39m.\u001b[39;49mwrite_csv_rows(\n\u001b[0;32m    314\u001b[0m     data,\n\u001b[0;32m    315\u001b[0m     ix,\n\u001b[0;32m    316\u001b[0m     \u001b[39mself\u001b[39;49m\u001b[39m.\u001b[39;49mnlevels,\n\u001b[0;32m    317\u001b[0m     \u001b[39mself\u001b[39;49m\u001b[39m.\u001b[39;49mcols,\n\u001b[0;32m    318\u001b[0m     \u001b[39mself\u001b[39;49m\u001b[39m.\u001b[39;49mwriter,\n\u001b[0;32m    319\u001b[0m )\n",
      "File \u001b[1;32mc:\\Users\\simeon wong\\AppData\\Local\\miniconda3\\envs\\p311\\Lib\\site-packages\\pandas\\_libs\\writers.pyx:72\u001b[0m, in \u001b[0;36mpandas._libs.writers.write_csv_rows\u001b[1;34m()\u001b[0m\n",
      "\u001b[1;31mUnicodeEncodeError\u001b[0m: 'ascii' codec can't encode character '\\u1e41' in position 13: ordinal not in range(128)"
     ]
    }
   ],
   "source": [
    "lang_df['indigenous_name'] = ''\n",
    "for row_num, row_data in lang_df.iterrows():\n",
    "    # get the indigenous name\n",
    "    indigenous_name = g.value(row_data['language_subject'], BOC.hasIndigenousName)\n",
    "    \n",
    "    # add the indigenous name to the dataframe\n",
    "    lang_df.loc[row_num, 'indigenous_name'] = indigenous_name\n",
    "    \n",
    "lang_df.head()\n",
    "\n",
    "# why encoding matters: let's try saving to CSV with the older ascii encoding\n",
    "lang_df[['two_letter_label', 'language_label', 'indigenous_name']].to_csv('language_labels.csv', index=False)  # by default, encoding is UTF-8\n",
    "lang_df[['two_letter_label', 'language_label', 'indigenous_name']].to_csv('language_labels_ascii.csv', index=False, encoding='ascii')\n",
    "\n",
    "# demonstrate Excel encoding issues"
   ]
  },
  {
   "cell_type": "markdown",
   "metadata": {},
   "source": [
    "<hr />\n",
    "\n",
    "## Advanced adventures in RDF: SPARQL"
   ]
  },
  {
   "cell_type": "code",
   "execution_count": 41,
   "metadata": {},
   "outputs": [
    {
     "data": {
      "text/html": [
       "<div>\n",
       "<style scoped>\n",
       "    .dataframe tbody tr th:only-of-type {\n",
       "        vertical-align: middle;\n",
       "    }\n",
       "\n",
       "    .dataframe tbody tr th {\n",
       "        vertical-align: top;\n",
       "    }\n",
       "\n",
       "    .dataframe thead th {\n",
       "        text-align: right;\n",
       "    }\n",
       "</style>\n",
       "<table border=\"1\" class=\"dataframe\">\n",
       "  <thead>\n",
       "    <tr style=\"text-align: right;\">\n",
       "      <th></th>\n",
       "      <th>two_letter_subject</th>\n",
       "      <th>two_letter_label</th>\n",
       "      <th>language_subject</th>\n",
       "      <th>language_label</th>\n",
       "      <th>three_letter_label</th>\n",
       "      <th>indigenous_name</th>\n",
       "    </tr>\n",
       "  </thead>\n",
       "  <tbody>\n",
       "    <tr>\n",
       "      <th>0</th>\n",
       "      <td>https://www.bankofcanada.ca/id/0156c97d-07d6-4...</td>\n",
       "      <td>th</td>\n",
       "      <td>https://www.bankofcanada.ca/id/057bd7b0-3b29-4...</td>\n",
       "      <td>Thai</td>\n",
       "      <td>tha</td>\n",
       "      <td>thai</td>\n",
       "    </tr>\n",
       "    <tr>\n",
       "      <th>1</th>\n",
       "      <td>https://www.bankofcanada.ca/id/03375036-4837-4...</td>\n",
       "      <td>ik</td>\n",
       "      <td>https://www.bankofcanada.ca/id/f78dd330-b7d4-4...</td>\n",
       "      <td>Inupiaq</td>\n",
       "      <td>ipk</td>\n",
       "      <td>inupiaq</td>\n",
       "    </tr>\n",
       "    <tr>\n",
       "      <th>2</th>\n",
       "      <td>https://www.bankofcanada.ca/id/04a982f6-48e2-4...</td>\n",
       "      <td>si</td>\n",
       "      <td>https://www.bankofcanada.ca/id/d0ff5be7-108a-4...</td>\n",
       "      <td>Sinhala</td>\n",
       "      <td>sin</td>\n",
       "      <td>siṁhala</td>\n",
       "    </tr>\n",
       "    <tr>\n",
       "      <th>3</th>\n",
       "      <td>https://www.bankofcanada.ca/id/051ef2ca-5641-4...</td>\n",
       "      <td>ch</td>\n",
       "      <td>https://www.bankofcanada.ca/id/09a4ebfe-8300-4...</td>\n",
       "      <td>Chamorro</td>\n",
       "      <td>cha</td>\n",
       "      <td>None</td>\n",
       "    </tr>\n",
       "    <tr>\n",
       "      <th>4</th>\n",
       "      <td>https://www.bankofcanada.ca/id/05b1dd74-98b1-4...</td>\n",
       "      <td>li</td>\n",
       "      <td>https://www.bankofcanada.ca/id/74a6898d-b0be-4...</td>\n",
       "      <td>Limburgan</td>\n",
       "      <td>lim</td>\n",
       "      <td>None</td>\n",
       "    </tr>\n",
       "  </tbody>\n",
       "</table>\n",
       "</div>"
      ],
      "text/plain": [
       "                                  two_letter_subject two_letter_label  \\\n",
       "0  https://www.bankofcanada.ca/id/0156c97d-07d6-4...               th   \n",
       "1  https://www.bankofcanada.ca/id/03375036-4837-4...               ik   \n",
       "2  https://www.bankofcanada.ca/id/04a982f6-48e2-4...               si   \n",
       "3  https://www.bankofcanada.ca/id/051ef2ca-5641-4...               ch   \n",
       "4  https://www.bankofcanada.ca/id/05b1dd74-98b1-4...               li   \n",
       "\n",
       "                                    language_subject language_label  \\\n",
       "0  https://www.bankofcanada.ca/id/057bd7b0-3b29-4...           Thai   \n",
       "1  https://www.bankofcanada.ca/id/f78dd330-b7d4-4...        Inupiaq   \n",
       "2  https://www.bankofcanada.ca/id/d0ff5be7-108a-4...        Sinhala   \n",
       "3  https://www.bankofcanada.ca/id/09a4ebfe-8300-4...       Chamorro   \n",
       "4  https://www.bankofcanada.ca/id/74a6898d-b0be-4...      Limburgan   \n",
       "\n",
       "  three_letter_label indigenous_name  \n",
       "0                tha            thai  \n",
       "1                ipk         inupiaq  \n",
       "2                sin         siṁhala  \n",
       "3                cha            None  \n",
       "4                lim            None  "
      ]
     },
     "execution_count": 41,
     "metadata": {},
     "output_type": "execute_result"
    }
   ],
   "source": [
    "# find the associated three letter code for each language\n",
    "lang_df['three_letter_label'] = ''\n",
    "\n",
    "q = '''\n",
    "        SELECT ?label\n",
    "        WHERE {\n",
    "            ?subject boc:denotes ?id .\n",
    "            ?subject rdf:type boc:Alpha3CodeLanguage .\n",
    "            ?subject rdfs:label ?label .\n",
    "        }\n",
    "'''\n",
    "\n",
    "for row_num, row_data in lang_df.iterrows():\n",
    "    query_result = g.query(q, initBindings={'id': row_data['language_subject']})\n",
    "    query_result = list(query_result)\n",
    "    \n",
    "    if len(query_result) > 0:\n",
    "        label = query_result[0].label\n",
    "    else:\n",
    "        label = ''\n",
    "        \n",
    "    lang_df.loc[row_num, 'three_letter_label'] = label\n",
    "        \n",
    "lang_df.head()"
   ]
  },
  {
   "cell_type": "markdown",
   "metadata": {},
   "source": [
    "## CSV to RDF"
   ]
  },
  {
   "cell_type": "code",
   "execution_count": 44,
   "metadata": {},
   "outputs": [
    {
     "data": {
      "text/html": [
       "<div>\n",
       "<style scoped>\n",
       "    .dataframe tbody tr th:only-of-type {\n",
       "        vertical-align: middle;\n",
       "    }\n",
       "\n",
       "    .dataframe tbody tr th {\n",
       "        vertical-align: top;\n",
       "    }\n",
       "\n",
       "    .dataframe thead th {\n",
       "        text-align: right;\n",
       "    }\n",
       "</style>\n",
       "<table border=\"1\" class=\"dataframe\">\n",
       "  <thead>\n",
       "    <tr style=\"text-align: right;\">\n",
       "      <th></th>\n",
       "      <th>Entity</th>\n",
       "      <th>Currency</th>\n",
       "      <th>AlphabeticCode</th>\n",
       "      <th>NumericCode</th>\n",
       "      <th>MinorUnit</th>\n",
       "      <th>WithdrawalDate</th>\n",
       "    </tr>\n",
       "  </thead>\n",
       "  <tbody>\n",
       "    <tr>\n",
       "      <th>0</th>\n",
       "      <td>AFGHANISTAN</td>\n",
       "      <td>Afghani</td>\n",
       "      <td>AFN</td>\n",
       "      <td>971.0</td>\n",
       "      <td>2</td>\n",
       "      <td>NaN</td>\n",
       "    </tr>\n",
       "    <tr>\n",
       "      <th>1</th>\n",
       "      <td>ÅLAND ISLANDS</td>\n",
       "      <td>Euro</td>\n",
       "      <td>EUR</td>\n",
       "      <td>978.0</td>\n",
       "      <td>2</td>\n",
       "      <td>NaN</td>\n",
       "    </tr>\n",
       "    <tr>\n",
       "      <th>2</th>\n",
       "      <td>ALBANIA</td>\n",
       "      <td>Lek</td>\n",
       "      <td>ALL</td>\n",
       "      <td>8.0</td>\n",
       "      <td>2</td>\n",
       "      <td>NaN</td>\n",
       "    </tr>\n",
       "    <tr>\n",
       "      <th>3</th>\n",
       "      <td>ALGERIA</td>\n",
       "      <td>Algerian Dinar</td>\n",
       "      <td>DZD</td>\n",
       "      <td>12.0</td>\n",
       "      <td>2</td>\n",
       "      <td>NaN</td>\n",
       "    </tr>\n",
       "    <tr>\n",
       "      <th>4</th>\n",
       "      <td>AMERICAN SAMOA</td>\n",
       "      <td>US Dollar</td>\n",
       "      <td>USD</td>\n",
       "      <td>840.0</td>\n",
       "      <td>2</td>\n",
       "      <td>NaN</td>\n",
       "    </tr>\n",
       "  </tbody>\n",
       "</table>\n",
       "</div>"
      ],
      "text/plain": [
       "           Entity        Currency AlphabeticCode  NumericCode MinorUnit  \\\n",
       "0     AFGHANISTAN         Afghani            AFN        971.0         2   \n",
       "1   ÅLAND ISLANDS            Euro            EUR        978.0         2   \n",
       "2         ALBANIA             Lek            ALL          8.0         2   \n",
       "3         ALGERIA  Algerian Dinar            DZD         12.0         2   \n",
       "4  AMERICAN SAMOA       US Dollar            USD        840.0         2   \n",
       "\n",
       "  WithdrawalDate  \n",
       "0            NaN  \n",
       "1            NaN  \n",
       "2            NaN  \n",
       "3            NaN  \n",
       "4            NaN  "
      ]
     },
     "execution_count": 44,
     "metadata": {},
     "output_type": "execute_result"
    }
   ],
   "source": [
    "# import currency codes table from GitHub\n",
    "currency_codes = pd.read_csv('https://raw.githubusercontent.com/datasets/currency-codes/master/data/codes-all.csv')\n",
    "currency_codes.head()"
   ]
  },
  {
   "cell_type": "code",
   "execution_count": 49,
   "metadata": {},
   "outputs": [
    {
     "name": "stdout",
     "output_type": "stream",
     "text": [
      "Currency codes graph with countries added:\n",
      "https://www.bankofcanada.ca/model#HOLY_SEE__THE_ http://www.w3.org/1999/02/22-rdf-syntax-ns#type https://www.bankofcanada.ca/model#Country\n",
      "https://www.bankofcanada.ca/model#KOREA__THE_REPUBLIC_OF_ http://www.w3.org/2000/01/rdf-schema#label KOREA__THE_REPUBLIC_OF_\n",
      "https://www.bankofcanada.ca/model#MICRONESIA__FEDERATED_STATES_OF_ http://www.w3.org/2000/01/rdf-schema#label MICRONESIA__FEDERATED_STATES_OF_\n",
      "https://www.bankofcanada.ca/model#GRENADA http://www.w3.org/1999/02/22-rdf-syntax-ns#type https://www.bankofcanada.ca/model#Country\n",
      "https://www.bankofcanada.ca/model#CHILE http://www.w3.org/2000/01/rdf-schema#label CHILE\n",
      "https://www.bankofcanada.ca/model#SERBIA_AND_MONTENEGRO http://www.w3.org/2000/01/rdf-schema#label SERBIA_AND_MONTENEGRO\n",
      "https://www.bankofcanada.ca/model#SOUTHERN_RHODESIA http://www.w3.org/1999/02/22-rdf-syntax-ns#type https://www.bankofcanada.ca/model#Country\n",
      "https://www.bankofcanada.ca/model#SOLOMON_ISLANDS http://www.w3.org/1999/02/22-rdf-syntax-ns#type https://www.bankofcanada.ca/model#Country\n",
      "https://www.bankofcanada.ca/model#CZECHOSLOVAKIA http://www.w3.org/1999/02/22-rdf-syntax-ns#type https://www.bankofcanada.ca/model#Country\n",
      "https://www.bankofcanada.ca/model#DOMINICAN_REPUBLIC__THE_ http://www.w3.org/2000/01/rdf-schema#label DOMINICAN_REPUBLIC__THE_\n",
      "Currency codes graph with currencies added:\n",
      "https://www.bankofcanada.ca/model#IEP http://www.w3.org/2000/01/rdf-schema#label Irish Pound\n",
      "https://www.bankofcanada.ca/model#POLAND http://www.w3.org/1999/02/22-rdf-syntax-ns#type https://www.bankofcanada.ca/model#Country\n",
      "https://www.bankofcanada.ca/model#MARSHALL_ISLANDS__THE_ http://www.w3.org/2000/01/rdf-schema#label MARSHALL_ISLANDS__THE_\n",
      "https://www.bankofcanada.ca/model#BWP http://www.w3.org/2000/01/rdf-schema#label Pula\n",
      "https://www.bankofcanada.ca/model#SDP http://www.w3.org/1999/02/22-rdf-syntax-ns#type https://www.bankofcanada.ca/model#Currency\n",
      "https://www.bankofcanada.ca/model#AMERICAN_SAMOA http://www.w3.org/2000/01/rdf-schema#label AMERICAN_SAMOA\n",
      "https://www.bankofcanada.ca/model#MZN http://www.w3.org/1999/02/22-rdf-syntax-ns#type https://www.bankofcanada.ca/model#Currency\n",
      "https://www.bankofcanada.ca/model#LUF http://www.w3.org/1999/02/22-rdf-syntax-ns#type https://www.bankofcanada.ca/model#Currency\n",
      "https://www.bankofcanada.ca/model#AUSTRALIA http://www.w3.org/2000/01/rdf-schema#label AUSTRALIA\n",
      "https://www.bankofcanada.ca/model#LVR http://www.w3.org/2000/01/rdf-schema#label Latvian Ruble\n"
     ]
    },
    {
     "data": {
      "text/plain": [
       "<Graph identifier=Naa32cc7e89c2485b84f119da57dc34c0 (<class 'rdflib.graph.Graph'>)>"
      ]
     },
     "execution_count": 49,
     "metadata": {},
     "output_type": "execute_result"
    }
   ],
   "source": [
    "cg = rdflib.Graph()\n",
    "cg.bind(\"boc\", BOC)   # this tells rdflib about our shorthand for the BOC namespace\n",
    "\n",
    "# get unique countries\n",
    "countries = currency_codes['Entity'].unique()\n",
    "\n",
    "# replace non-letter characters with underscores\n",
    "import re\n",
    "for index in range(len(countries)):\n",
    "    countries[index] = re.sub('[^a-zA-Z]', '_', countries[index])\n",
    "\n",
    "\n",
    "for country in countries:\n",
    "    # create a new country subject\n",
    "    country_subject = rdflib.URIRef(BOC[country.replace(' ', '_')])\n",
    "\n",
    "    # add the country subject to the graph\n",
    "    cg.add((country_subject, RDF.type, BOC.Country))\n",
    "\n",
    "    # add the country label to the graph\n",
    "    cg.add((country_subject, RDFS.label, rdflib.Literal(country)))\n",
    "\n",
    "\n",
    "# print the first few triples\n",
    "print('Currency codes graph with countries added:')\n",
    "for s, p, o in list(cg)[:10]:\n",
    "    print(s, p, o)\n",
    "\n",
    "\n",
    "# create currencies and add them to the graph\n",
    "for row_num,row_data in currency_codes.iterrows():\n",
    "    # create currency subject\n",
    "    currency_subject = rdflib.URIRef(BOC[row_data['AlphabeticCode']])\n",
    "\n",
    "    # add the currency subject to the graph\n",
    "    cg.add((currency_subject, RDF.type, BOC.Currency))\n",
    "\n",
    "    # add currency label to the graph\n",
    "    cg.add((currency_subject, RDFS.label, rdflib.Literal(row_data['Currency'])))\n",
    "\n",
    "# print the last few triples\n",
    "print('Currency codes graph with currencies added:')\n",
    "for s, p, o in list(cg)[-10:]:\n",
    "    print(s, p, o)\n",
    "\n",
    "# output to RDF file\n",
    "cg.serialize('currency_graph.rdf', format='xml')\n"
   ]
  }
 ],
 "metadata": {
  "kernelspec": {
   "display_name": "Python 3 (ipykernel)",
   "language": "python",
   "name": "python3"
  },
  "language_info": {
   "codemirror_mode": {
    "name": "ipython",
    "version": 3
   },
   "file_extension": ".py",
   "mimetype": "text/x-python",
   "name": "python",
   "nbconvert_exporter": "python",
   "pygments_lexer": "ipython3",
   "version": "3.11.4"
  }
 },
 "nbformat": 4,
 "nbformat_minor": 4
}
